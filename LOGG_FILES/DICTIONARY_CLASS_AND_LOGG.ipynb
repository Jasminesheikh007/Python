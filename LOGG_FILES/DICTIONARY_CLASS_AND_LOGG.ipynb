{
 "cells": [
  {
   "cell_type": "markdown",
   "id": "f5e73b8b",
   "metadata": {},
   "source": [
    "#### THERE IS SOME BASIC QUESTIONS OF DATA TYPES AND VARIABLES... "
   ]
  },
  {
   "cell_type": "raw",
   "id": "93693970",
   "metadata": {},
   "source": [
    "1. Create a dictionary that represents the information of a person, including name, age,\n",
    "and city.\n",
    "2. Define a dictionary with information about a book (title, author, and year of\n",
    "publication). Write a program to access and print these values.\n",
    "3. Make a dictionary with the names of cities as keys and their populations as values.\n",
    "Add a new city to the dictionary and update the population of an existing city.\n",
    "4. Define a dictionary with keys representing months and values as the number of days\n",
    "in each month. Write a program to print all the keys (months) in the dictionary.\n",
    "5. Create a list of names and generate a dictionary where the keys are the names, and\n",
    "the values are the lengths of the names.\n",
    "6. Make a dictionary with information about items and their prices. Write a program that\n",
    "iterates through the dictionary and prints each item and its price.\n",
    "7. Write a program that checks if a specific key is present in a dictionary and prints a\n",
    "message indicating its presence or absence.\n",
    "8. Define a dictionary with words as keys and their lengths as values. Sort the dictionary\n",
    "based on the values and print the sorted results.\n",
    "9. Assume a dictionary representing the scores of students in a class. Write a program\n",
    "to print the student names, their scores, and calculate the class average.\n",
    "10. Create a nested dictionary to represent a library catalog with books and their details\n",
    "(title, author, and publication year). Write a program to access and print the information\n",
    "for a specific book."
   ]
  },
  {
   "cell_type": "markdown",
   "id": "cc6ae06a",
   "metadata": {},
   "source": [
    "#### IMPLEMENTATION OF THIS PROBLEM STATEMENT IN MY PROGRAM :"
   ]
  },
  {
   "cell_type": "code",
   "execution_count": 2,
   "id": "1eadd9b5",
   "metadata": {},
   "outputs": [],
   "source": [
    "import logging\n",
    "\n",
    "logging.basicConfig(filename=\"dictionary.log\", level=logging.DEBUG, format=\"%(asctime)s %(levelname)s %(message)s\")"
   ]
  },
  {
   "cell_type": "code",
   "execution_count": 91,
   "id": "4ac64550",
   "metadata": {},
   "outputs": [],
   "source": [
    "class dictionary :\n",
    "    logging.info(\"we are in dictionary class\")\n",
    "    \n",
    "    def dictionary(self):\n",
    "        try : \n",
    "            logging.info(\"we are in question 1\")\n",
    "            dic = {'name': 'jasmine', 'age': 12,\"city\" : 'nagpur'}\n",
    "            print(dic)\n",
    "        except Exception as e :\n",
    "            logging.exception(e)\n",
    "            logging.info(\"there is an error\")\n",
    "            \n",
    "    def books(self) :\n",
    "        \n",
    "        try :\n",
    "            logging.info(\"we are in question 2\")\n",
    "            book = {'title' : 'python programming', 'author' : 'Mark Lutz', 'year': 2000}\n",
    "            n = int(input(\"enter 0 for dic items 1 for keys and 2 for values...\"))\n",
    "            if n == 0 :\n",
    "                print(book.items())\n",
    "            elif n ==1 :\n",
    "                print(book.keys())\n",
    "            elif n==2 :\n",
    "                print(book.values())\n",
    "                \n",
    "        except Exception as e :\n",
    "            logging.exception(e)\n",
    "            logging.info(\"there is an error\")\n",
    "            \n",
    "            \n",
    "    def insertupdate(self) :\n",
    "        try:\n",
    "            logging.info(\"we are in question 3\")\n",
    "            dict1 = {'nagpur' : 1200,'mumbai' : 2300, 'delhi' : 3400,'kolkata':5500}\n",
    "            print(\"original dict\",dict1)\n",
    "            print()\n",
    "            dict1['kolkata'] = 44000\n",
    "            print(\"after updating the kolkata\",dict1)\n",
    "            print()\n",
    "            print(\"adding goa in dict1\")\n",
    "            dict1['goa'] = 67000\n",
    "\n",
    "            print(\"modified dictionary\",dict1)\n",
    "            \n",
    "        except Exception as e :\n",
    "            logging.exception(e)\n",
    "            logging.info(\"there is an error\")\n",
    "            \n",
    "    def months(self):\n",
    "        try :\n",
    "            logging.info(\"we are in question 4\")\n",
    "            dict2 = {'january':31,'february':27,'march':30, 'april' : 31,'may' : 30,'june' : 31,'july' : 30,'august' : 31,'september' : 30,'october':31,'november' : 31, 'december' : 31}\n",
    "            print(dict2)\n",
    "            \n",
    "            print(\"KEYS OF DICTIONARY \",dict2.keys())\n",
    "            \n",
    "        except Exception as e :\n",
    "            logging.exception(e)\n",
    "            logging.info(\"there is an error\")  \n",
    "            \n",
    "    def length(self) :\n",
    "        try :\n",
    "            logging.info(\"we are in question 5\")\n",
    "            listt = ['harsh','akash','jasmine','shachi','prachi']\n",
    "            print(\"original list is \",listt)\n",
    "            print()\n",
    "            for i in listt :\n",
    "                print(\"length of list is \",i ,\" is \",len(i))\n",
    "                \n",
    "        except Exception as e :\n",
    "            logging.exception(e)\n",
    "            logging.info(\"there is an error\")  \n",
    "            \n",
    "    def iterates(self) :\n",
    "        try :\n",
    "            logging.info(\"we are in question 6\")\n",
    "            dictt = {'cake' : 500,'grocery' : 400, 'vegetables' : 700, 'fruits' : 450,'grains' : 800}\n",
    "            print(dictt)\n",
    "            for i , j in dictt.items() :\n",
    "                print('KEY',i,\"-->\",'',j)\n",
    "        except Exception as e :\n",
    "            logging.exception(e)\n",
    "            logging.info(\"there is an error\")\n",
    "            \n",
    "    def presentkey(self):\n",
    "        try :\n",
    "            logging.info(\"we are in question 7\")\n",
    "            new_dict = {'key1' : 10 , 'key2' : 20 , 'key3' : 30 , 'key4' : 40 , 'key5' : 50}\n",
    "            print(new_dict)\n",
    "            def key (k):\n",
    "                if k in new_dict :\n",
    "                    print(\"key is present in dictionary\")\n",
    "                else :\n",
    "                    print(\"key is not present\")\n",
    "                    key('key1')\n",
    "                \n",
    "        except Exception as e :\n",
    "            logging.exception(e)\n",
    "            logging.info(\"there is an error\")\n",
    "            \n",
    "    def sorting(self) :\n",
    "        try:\n",
    "            logging.info(\"we are in question 8\")\n",
    "            dicct= {'harsh': 4,'akash' : 5,'jasmine' : 7,'shachi' : 6,'prachi' : 6}\n",
    "\n",
    "            srt = sorted(dicct.values())\n",
    "            print('SORTED VALUES OF DICTIONARY ---> ',srt)\n",
    "            \n",
    "        except Exception as e :\n",
    "            logging.exception(e)\n",
    "            logging.info(\"there is an error\")\n",
    "            \n",
    "    def student(self) :\n",
    "        try :\n",
    "            logging.info(\"we are in question 9\")\n",
    "            students = {'shree' : 78 , 'rahul' : 89 ,'rohit' : 90, 'shubham' : 67, 'varun' : 99,'rohan' : 55}\n",
    "            print(students)\n",
    "            \n",
    "            for name, score in students.items() :\n",
    "                print(name,score)\n",
    "\n",
    "            total_score = sum(students.values())\n",
    "            print(\"total scores of students -- > \",total_score)\n",
    "            numb_students = len(students)\n",
    "            print(\"length of students -- > \", numb_students)\n",
    "            class_average = total_score / numb_students \n",
    "\n",
    "            print(\"average of class -- > \" , class_average)\n",
    "            \n",
    "        except Exception as e :\n",
    "            logging.exception(e)\n",
    "            logging.info(\"there is an error\")\n",
    "            \n",
    "            \n",
    "    def librarycatalog(self) :\n",
    "        try:\n",
    "            logging.info(\"we are in question 10\")\n",
    "            library_catalog = {'book1' : {'author' : 'Paul Berry','title' : 'Head-First Python' ,'publication_year' : 2016 }, \n",
    "                   'book2' : {'author' : 'Allen B. Downey','title' : 'Think Python' ,'publication_year' : 2015},\n",
    "                   'book3' : { 'author' : 'Dan Bader','title' : 'Python Tricks' ,'publication_year' : 2017}}\n",
    "            \n",
    "            print(\" BOOK 01 ---> Head-First Python Book,BOOK 02 ---> Think Python Book,and BOOK 03 ---> Python Tricks Book is present in library\")\n",
    "            book_find = input(\"enter a book to find  --- >\")\n",
    "\n",
    "            if book_find in library_catalog :\n",
    "                book_information = library_catalog[book_find]\n",
    "                print(book_information)\n",
    "\n",
    "            else :\n",
    "                print(book_find ,\"book not found in library\")\n",
    "            \n",
    "        except Exception as e :\n",
    "            logging.exception(e)\n",
    "            logging.info(\"there is an error\")\n",
    "    "
   ]
  },
  {
   "cell_type": "code",
   "execution_count": 92,
   "id": "31470b45",
   "metadata": {},
   "outputs": [],
   "source": [
    "dictt = dictionary()"
   ]
  },
  {
   "cell_type": "code",
   "execution_count": 93,
   "id": "8a146227",
   "metadata": {},
   "outputs": [
    {
     "name": "stdout",
     "output_type": "stream",
     "text": [
      "{'name': 'jasmine', 'age': 12, 'city': 'nagpur'}\n",
      "None\n"
     ]
    }
   ],
   "source": [
    "print(dictt.dictionary())"
   ]
  },
  {
   "cell_type": "code",
   "execution_count": 94,
   "id": "e658fcfd",
   "metadata": {},
   "outputs": [
    {
     "name": "stdout",
     "output_type": "stream",
     "text": [
      "enter 0 for dic items 1 for keys and 2 for values...1\n",
      "dict_keys(['title', 'author', 'year'])\n",
      "None\n"
     ]
    }
   ],
   "source": [
    "print(dictt.books())"
   ]
  },
  {
   "cell_type": "code",
   "execution_count": 95,
   "id": "6e70243f",
   "metadata": {},
   "outputs": [
    {
     "name": "stdout",
     "output_type": "stream",
     "text": [
      "original dict {'nagpur': 1200, 'mumbai': 2300, 'delhi': 3400, 'kolkata': 5500}\n",
      "\n",
      "after updating the kolkata {'nagpur': 1200, 'mumbai': 2300, 'delhi': 3400, 'kolkata': 44000}\n",
      "\n",
      "adding goa in dict1\n",
      "modified dictionary {'nagpur': 1200, 'mumbai': 2300, 'delhi': 3400, 'kolkata': 44000, 'goa': 67000}\n",
      "None\n"
     ]
    }
   ],
   "source": [
    "print(dictt.insertupdate())"
   ]
  },
  {
   "cell_type": "code",
   "execution_count": 96,
   "id": "2e038e1c",
   "metadata": {},
   "outputs": [
    {
     "name": "stdout",
     "output_type": "stream",
     "text": [
      "{'january': 31, 'february': 27, 'march': 30, 'april': 31, 'may': 30, 'june': 31, 'july': 30, 'august': 31, 'september': 30, 'october': 31, 'november': 31, 'december': 31}\n",
      "KEYS OF DICTIONARY  dict_keys(['january', 'february', 'march', 'april', 'may', 'june', 'july', 'august', 'september', 'october', 'november', 'december'])\n",
      "None\n"
     ]
    }
   ],
   "source": [
    "print(dictt.months())"
   ]
  },
  {
   "cell_type": "code",
   "execution_count": 97,
   "id": "5c199a5e",
   "metadata": {},
   "outputs": [
    {
     "name": "stdout",
     "output_type": "stream",
     "text": [
      "original list is  ['harsh', 'akash', 'jasmine', 'shachi', 'prachi']\n",
      "\n",
      "length of list is  harsh  is  5\n",
      "length of list is  akash  is  5\n",
      "length of list is  jasmine  is  7\n",
      "length of list is  shachi  is  6\n",
      "length of list is  prachi  is  6\n",
      "None\n"
     ]
    }
   ],
   "source": [
    "print(dictt.length())"
   ]
  },
  {
   "cell_type": "code",
   "execution_count": 98,
   "id": "026be8a4",
   "metadata": {},
   "outputs": [
    {
     "name": "stdout",
     "output_type": "stream",
     "text": [
      "{'cake': 500, 'grocery': 400, 'vegetables': 700, 'fruits': 450, 'grains': 800}\n",
      "KEY cake -->  500\n",
      "KEY grocery -->  400\n",
      "KEY vegetables -->  700\n",
      "KEY fruits -->  450\n",
      "KEY grains -->  800\n",
      "None\n"
     ]
    }
   ],
   "source": [
    "print(dictt.iterates())"
   ]
  },
  {
   "cell_type": "code",
   "execution_count": 99,
   "id": "c94b9ec8",
   "metadata": {},
   "outputs": [
    {
     "name": "stdout",
     "output_type": "stream",
     "text": [
      "{'key1': 10, 'key2': 20, 'key3': 30, 'key4': 40, 'key5': 50}\n",
      "None\n"
     ]
    }
   ],
   "source": [
    "print(dictt.presentkey())"
   ]
  },
  {
   "cell_type": "code",
   "execution_count": 100,
   "id": "fd716740",
   "metadata": {},
   "outputs": [
    {
     "name": "stdout",
     "output_type": "stream",
     "text": [
      "SORTED VALUES OF DICTIONARY --->  [4, 5, 6, 6, 7]\n",
      "None\n"
     ]
    }
   ],
   "source": [
    "print(dictt.sorting())"
   ]
  },
  {
   "cell_type": "code",
   "execution_count": 101,
   "id": "ffb83a15",
   "metadata": {},
   "outputs": [
    {
     "name": "stdout",
     "output_type": "stream",
     "text": [
      "{'shree': 78, 'rahul': 89, 'rohit': 90, 'shubham': 67, 'varun': 99, 'rohan': 55}\n",
      "shree 78\n",
      "rahul 89\n",
      "rohit 90\n",
      "shubham 67\n",
      "varun 99\n",
      "rohan 55\n",
      "total scores of students -- >  478\n",
      "length of students -- >  6\n",
      "average of class -- >  79.66666666666667\n",
      "None\n"
     ]
    }
   ],
   "source": [
    "print(dictt.student())"
   ]
  },
  {
   "cell_type": "code",
   "execution_count": 49,
   "id": "a40bc231",
   "metadata": {},
   "outputs": [
    {
     "name": "stdout",
     "output_type": "stream",
     "text": [
      " BOOK 01 ---> Head-First Python Book,BOOK 02 ---> Think Python Book,and BOOK 03 ---> Python Tricks Book is present in library\n",
      "enter a book to find  --- >book3\n",
      "{'author': 'Dan Bader', 'title': 'Python Tricks', 'publication_year': 2017}\n",
      "None\n"
     ]
    }
   ],
   "source": [
    "print(dictt.librarycatalog())"
   ]
  },
  {
   "cell_type": "code",
   "execution_count": null,
   "id": "256ec5ee",
   "metadata": {},
   "outputs": [],
   "source": []
  }
 ],
 "metadata": {
  "kernelspec": {
   "display_name": "Python 3 (ipykernel)",
   "language": "python",
   "name": "python3"
  },
  "language_info": {
   "codemirror_mode": {
    "name": "ipython",
    "version": 3
   },
   "file_extension": ".py",
   "mimetype": "text/x-python",
   "name": "python",
   "nbconvert_exporter": "python",
   "pygments_lexer": "ipython3",
   "version": "3.11.4"
  }
 },
 "nbformat": 4,
 "nbformat_minor": 5
}
