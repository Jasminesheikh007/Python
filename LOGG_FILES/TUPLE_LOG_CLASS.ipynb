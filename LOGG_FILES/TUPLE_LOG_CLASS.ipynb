{
 "cells": [
  {
   "cell_type": "markdown",
   "id": "45b1b70a",
   "metadata": {},
   "source": [
    "#### THERE IS SOME BASICS QUESTIONS RELATED TO TUPLE :"
   ]
  },
  {
   "cell_type": "raw",
   "id": "5c759f1b",
   "metadata": {},
   "source": [
    "QUESTIONS\n",
    "1. Create a tuple containing the names of your favorite colors.\n",
    "2. Define a tuple with the days of the week. Write a program that asks the user for a\n",
    "number (1 to 7) and prints the corresponding day of the week.\n",
    "3. Make a tuple with the coordinates (x, y). Write a program that unpacks the tuple and\n",
    "prints the values of x and y separately.\n",
    "4. Introduce two tuples and concatenate them to form a new tuple. Print the resulting\n",
    "tuple.\n",
    "5. Make a tuple of numbers. Use slicing to extract a sub-tuple containing the middle\n",
    "three numbers.\n",
    "6. Try to modify an element in a tuple and explain why it results in an error.\n",
    "7. Create a tuple of mixed data types (e.g., numbers and strings). Use the count()\n",
    "method to count the number of occurrences of a specific element and the index()\n",
    "method to find its position.\n",
    "8. Define two tuples with numbers. Write a program that compares the two tuples and\n",
    "prints whether they are equal, not equal, or one is greater than the other.\n",
    "9. Create a function that accepts a variable number of arguments and returns them as a\n",
    "tuple. Then, call the function with different numbers of arguments.\n",
    "10. Make a tuple of names. Write a program that uses a loop to iterate through the\n",
    "names and print each one."
   ]
  },
  {
   "cell_type": "markdown",
   "id": "23dc7f8f",
   "metadata": {},
   "source": [
    "#### IMPLEMENTATION OF THIS PROBLEM STATEMENT IN MY PROGRAM : "
   ]
  },
  {
   "cell_type": "code",
   "execution_count": 25,
   "id": "e72518bc",
   "metadata": {},
   "outputs": [],
   "source": [
    "import logging\n",
    "\n",
    "logging.basicConfig(filename=\"tuple_log.log\", level=logging.DEBUG, format=\"%(asctime)s %(levelname)s %(message)s\")\n",
    "\n",
    "class tuple_log :\n",
    "    logging.info(\"we are in the class tuple\")\n",
    "    \n",
    "    def colors(self) :\n",
    "        try :\n",
    "            tup = ('red','yellow','black','green','blue')\n",
    "            print(tup)\n",
    "            \n",
    "        except Exception as e :\n",
    "            logging.exception(e)\n",
    "            logging.info(\"there might be some errors\")\n",
    "            \n",
    "    def week(self) :\n",
    "        try :\n",
    "            tupl = ('monday','tuesday','wednesday','thursday','friday','saturday','sunday')\n",
    "            num = int(input(\"enter a day which u want to know from 1 to 7 : \"))\n",
    "\n",
    "            if num == 1 :\n",
    "                print(\"monday\")\n",
    "            elif num == 2 :\n",
    "                print('tuesday')\n",
    "            elif num == 3 :\n",
    "                print('wednesday')\n",
    "\n",
    "            elif num == 4 :\n",
    "                print('thursday')\n",
    "            elif num == 5 :\n",
    "                print('friday')\n",
    "\n",
    "            elif num == 6 :\n",
    "                print('saturday')\n",
    "            elif num == 7 :\n",
    "                print('sunday')\n",
    "\n",
    "            else :\n",
    "                print(\"u entered an invalid number...\")\n",
    "        except Exception as e :\n",
    "            logging.exception(e)\n",
    "            logging.info(\"there might be some errors\")\n",
    "            \n",
    "    def coordinate(self) :\n",
    "        try :\n",
    "            print(\"This code defines a tuple coordinates with (x, y) values. Then, it unpacks the tuple into x and y variables, and finally, prints the values of x and y separately.\")\n",
    "            # Creating a tuple with coordinates\n",
    "            coordinates = (5, 10)\n",
    "\n",
    "            # Unpacking the tuple\n",
    "            x, y = coordinates\n",
    "\n",
    "            # Printing the values of x and y separately\n",
    "            print(\"x coordinate:\", x)\n",
    "            print(\"y coordinate:\", y)\n",
    "        except Exception as e :\n",
    "            logging.exception(e)\n",
    "            logging.info(\"there might be some errors\")\n",
    "            \n",
    "    def concatenate(self) :\n",
    "        try :\n",
    "            t1 = input(\"enter a tuple1 : \")\n",
    "            t2 = input('enter a tuple2 : ')\n",
    "\n",
    "\n",
    "            t3 = t1 + t2\n",
    "\n",
    "            print(\"AFTER CONCATENATING THE TUPLE1 AND TUPLE 2 : \",t3)\n",
    "        except Exception as e :\n",
    "            logging.exception(e)\n",
    "            logging.info(\"there might be some errors\")\n",
    "            \n",
    "    def slicing(self):\n",
    "        try :\n",
    "            tup = (1,2,3,4,5,6,7,8,9,10)\n",
    "\n",
    "            t = tup[4:]\n",
    "            print(t)\n",
    "        except Exception as e :\n",
    "            logging.exception(e)\n",
    "            logging.info(\"there might be some errors\")\n",
    "            \n",
    "    def modify(self) :\n",
    "        try :\n",
    "            print(\"Tuples are immutable, meaning their elements cannot be modified.If we try to change an element in a tuple, it will result in an error.\")\n",
    "            tupl1 = (1,2,3,4,5)\n",
    "            tupl1[2] = 33\n",
    "            print(tupl1)\n",
    "        except Exception as e :\n",
    "            logging.exception(e)\n",
    "            logging.info(\"there might be some errors\")\n",
    "            \n",
    "    def mixeddata(self) :\n",
    "        try :\n",
    "            tupl2 = ('a',1,'b',2,'c',3,4,5,6,4,3,'a')\n",
    "\n",
    "            t3 = tupl2.count('a')\n",
    "            print(\"the count of a is \", t3)\n",
    "\n",
    "            print(\"the indexing of tuple\")\n",
    "            t= tupl2.index(3)\n",
    "            print(\"3 is in indexed of \",t)\n",
    "        except Exception as e :\n",
    "            logging.exception(e)\n",
    "            logging.info(\"there might be some errors\")\n",
    "            \n",
    "    def ifelse(self) :\n",
    "        try :\n",
    "            tuple1 = (1,2,3,4,5,6,7,8,9)\n",
    "            tuple2 = (1,2,3,4,5)\n",
    "\n",
    "            if len(tuple1) < len(tuple2) :\n",
    "                print(\"the tuple is greater \")\n",
    "            elif len(tuple1) > len(tuple2) :\n",
    "                print(\"the tuple2 is smaller\")\n",
    "                if tuple1 != tuple2 :\n",
    "                     print(\"the tuples are not equal\")\n",
    "            else :\n",
    "                print(\"invalid tuple\")\n",
    "        except Exception as e :\n",
    "            logging.exception(e)\n",
    "            logging.info(\"there might be some errors\")\n",
    "            \n",
    "    def tupl_function(self, *args) :\n",
    "        try :\n",
    "            def args_to_tuple(*args):\n",
    "                return tuple(args)\n",
    "            \n",
    "            tuple1 = args_to_tuple(1, 2, 3)\n",
    "            tuple2 = args_to_tuple('a','b','c')\n",
    "\n",
    "            print(\"TUPLE 1:\", tuple1)\n",
    "            print(\"TUPLE 2:\", tuple2)\n",
    "        except Exception as e :\n",
    "            logging.exception(e)\n",
    "            logging.info(\"there might be some errors\")\n",
    "            \n",
    "    def tuple_iterate(self) :\n",
    "        try :\n",
    "            tupn = ('harsh','sameer','ekta','shachi','jasmine','sakshi')\n",
    "\n",
    "            for i in tupn :\n",
    "                print(i)\n",
    "        except Exception as e :\n",
    "            logging.exception(e)\n",
    "            logging.info(\"there might be some errors\")\n",
    "\n",
    "                \n",
    "        \n",
    "        "
   ]
  },
  {
   "cell_type": "code",
   "execution_count": 26,
   "id": "6fb260a6",
   "metadata": {},
   "outputs": [],
   "source": [
    "tup = tuple_log()"
   ]
  },
  {
   "cell_type": "code",
   "execution_count": 3,
   "id": "5b125a26",
   "metadata": {},
   "outputs": [
    {
     "name": "stdout",
     "output_type": "stream",
     "text": [
      "('red', 'yellow', 'black', 'green', 'blue')\n",
      "None\n"
     ]
    }
   ],
   "source": [
    "print(tup.colors())"
   ]
  },
  {
   "cell_type": "code",
   "execution_count": 4,
   "id": "36169b8b",
   "metadata": {},
   "outputs": [
    {
     "name": "stdout",
     "output_type": "stream",
     "text": [
      "enter a day which u want to know from 1 to 7 : 5\n",
      "friday\n",
      "None\n"
     ]
    }
   ],
   "source": [
    "print(tup.week())"
   ]
  },
  {
   "cell_type": "code",
   "execution_count": 5,
   "id": "7dee08d3",
   "metadata": {},
   "outputs": [
    {
     "name": "stdout",
     "output_type": "stream",
     "text": [
      "This code defines a tuple coordinates with (x, y) values. Then, it unpacks the tuple into x and y variables, and finally, prints the values of x and y separately.\n",
      "x coordinate: 5\n",
      "y coordinate: 10\n",
      "None\n"
     ]
    }
   ],
   "source": [
    "print(tup.coordinate())"
   ]
  },
  {
   "cell_type": "code",
   "execution_count": 6,
   "id": "6f5d8dcf",
   "metadata": {},
   "outputs": [
    {
     "name": "stdout",
     "output_type": "stream",
     "text": [
      "enter a tuple1 : 1,4,3,4,3,4\n",
      "enter a tuple2 : A,G,V,RD,S,A\n",
      "AFTER CONCATENATING THE TUPLE1 AND TUPLE 2 :  1,4,3,4,3,4A,G,V,RD,S,A\n",
      "None\n"
     ]
    }
   ],
   "source": [
    "print(tup.concatenate())"
   ]
  },
  {
   "cell_type": "code",
   "execution_count": 7,
   "id": "e35ce22b",
   "metadata": {},
   "outputs": [
    {
     "name": "stdout",
     "output_type": "stream",
     "text": [
      "(5, 6, 7, 8, 9, 10)\n",
      "None\n"
     ]
    }
   ],
   "source": [
    "print(tup.slicing())"
   ]
  },
  {
   "cell_type": "code",
   "execution_count": 8,
   "id": "0e3cc7a9",
   "metadata": {},
   "outputs": [
    {
     "name": "stdout",
     "output_type": "stream",
     "text": [
      "Tuples are immutable, meaning their elements cannot be modified.If we try to change an element in a tuple, it will result in an error.\n",
      "None\n"
     ]
    }
   ],
   "source": [
    "print(tup.modify())"
   ]
  },
  {
   "cell_type": "code",
   "execution_count": 9,
   "id": "2ee62d12",
   "metadata": {},
   "outputs": [
    {
     "name": "stdout",
     "output_type": "stream",
     "text": [
      "the count of a is  2\n",
      "the indexing of tuple\n",
      "3 is in indexed of  5\n",
      "None\n"
     ]
    }
   ],
   "source": [
    "print(tup.mixeddata())"
   ]
  },
  {
   "cell_type": "code",
   "execution_count": 10,
   "id": "548073a8",
   "metadata": {},
   "outputs": [
    {
     "name": "stdout",
     "output_type": "stream",
     "text": [
      "the tuple2 is smaller\n",
      "the tuples are not equal\n",
      "None\n"
     ]
    }
   ],
   "source": [
    "print(tup.ifelse())"
   ]
  },
  {
   "cell_type": "code",
   "execution_count": 23,
   "id": "f93b18d2",
   "metadata": {},
   "outputs": [
    {
     "name": "stdout",
     "output_type": "stream",
     "text": [
      "TUPLE 1: (1, 2, 3)\n",
      "TUPLE 2: ('a', 'b', 'c')\n",
      "None\n"
     ]
    }
   ],
   "source": [
    "print(tup.tupl_function())"
   ]
  },
  {
   "cell_type": "code",
   "execution_count": 27,
   "id": "e0822d79",
   "metadata": {},
   "outputs": [
    {
     "name": "stdout",
     "output_type": "stream",
     "text": [
      "harsh\n",
      "sameer\n",
      "ekta\n",
      "shachi\n",
      "jasmine\n",
      "sakshi\n",
      "None\n"
     ]
    }
   ],
   "source": [
    "print(tup.tuple_iterate())"
   ]
  },
  {
   "cell_type": "code",
   "execution_count": null,
   "id": "e94327d7",
   "metadata": {},
   "outputs": [],
   "source": []
  }
 ],
 "metadata": {
  "kernelspec": {
   "display_name": "Python 3 (ipykernel)",
   "language": "python",
   "name": "python3"
  },
  "language_info": {
   "codemirror_mode": {
    "name": "ipython",
    "version": 3
   },
   "file_extension": ".py",
   "mimetype": "text/x-python",
   "name": "python",
   "nbconvert_exporter": "python",
   "pygments_lexer": "ipython3",
   "version": "3.11.4"
  }
 },
 "nbformat": 4,
 "nbformat_minor": 5
}
