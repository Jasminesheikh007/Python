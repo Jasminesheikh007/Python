{
 "cells": [
  {
   "cell_type": "markdown",
   "id": "e4cb5c9d",
   "metadata": {},
   "source": [
    "## OUTPUT_METHODS_IN_PYTHON"
   ]
  },
  {
   "cell_type": "markdown",
   "id": "10b77643",
   "metadata": {},
   "source": [
    "##### THERE IS SOME BASIC QUESTIONS RELATED TO OUTPUT METHODS"
   ]
  },
  {
   "cell_type": "markdown",
   "id": "369f3968",
   "metadata": {},
   "source": [
    "1. Python program that prints \"Hello, World!\" to the console.\n",
    "2. Create a program that takes a number as input and prints its multiplication table from\n",
    "1 to 10.\n",
    "3. Write a program that counts down from a specified number to 1 and then prints\n",
    "\"Blast-off!\"\n",
    "4. Generate a program that prints a pyramid of stars, where the user provides the\n",
    "number of rows for the pyramid.\n",
    "5. Ask the user for a number \"n\" and print a pattern of numbers from 1 to n in the\n",
    "following way:\n",
    "1\n",
    "12\n",
    "123\n",
    "1234\n",
    "6. Make a program that calculates and prints the sum of all numbers from 1 to a\n",
    "user-specified number.\n",
    "7. Ask the user to enter a character (e.g., '*') and a number. Print a square of that\n",
    "character with the given number of rows and columns.\n",
    "8. Write a program that asks the user to enter a positive integer and then prints the\n",
    "factorial of that number.\n",
    "9. BMI calculator program (as in a previous question) and print the user's BMI category\n",
    "(e.g., underweight, normal, overweight, obese).\n",
    "10. Ask the user to input the principal amount, rate of interest, and time in years.\n",
    "Calculate and print the simple interest.\n"
   ]
  },
  {
   "cell_type": "markdown",
   "id": "d0a75bb6",
   "metadata": {},
   "source": [
    "##### IMPLEMENTATION OF THIS PROBLEM STATMENTS IN MY PROGRAM : "
   ]
  },
  {
   "cell_type": "code",
   "execution_count": 1,
   "id": "0f686ab9",
   "metadata": {},
   "outputs": [],
   "source": [
    "import logging\n",
    "\n",
    "logging.basicConfig(filename=\"output.log\", level=logging.DEBUG, format=\"%(asctime)s %(levelname)s %(message)s\")"
   ]
  },
  {
   "cell_type": "code",
   "execution_count": 63,
   "id": "d9ecc2c4",
   "metadata": {},
   "outputs": [],
   "source": [
    "class output_methods :\n",
    "    logging.info(\"we are in output method class\")\n",
    "    \n",
    "    def hello(self) : \n",
    "        try : \n",
    "            \n",
    "            print(\"Hello, World!\")\n",
    "        except Exception as e :\n",
    "            logging.exception(e)\n",
    "            logging.info(\"there is an error\")\n",
    "    \n",
    "    def multiplication(self) :\n",
    "        try :\n",
    "            \n",
    "            number = int(input(\"enter a number for table \"))\n",
    "            for i in range(1,11) :  # range(1,2,3,4,5,6,7,8,9,10)\n",
    "                print(number, '*', i, '=', number*i)  \n",
    "        \n",
    "        except Exception as e :\n",
    "            logging.exception(e)\n",
    "            logging.info(\"there is an error\")\n",
    "            \n",
    "    def blast(self):\n",
    "        try:\n",
    "            def countdown(n) :\n",
    "                if n ==0 :\n",
    "                    print(\"Blast-off\")\n",
    "        \n",
    "                else :\n",
    "                    print(n)\n",
    "                    countdown(n-1)\n",
    "            countdown(5) #calling a function\n",
    "        except Exception as e :\n",
    "            logging.exception(e)\n",
    "            logging.info(\"there is an error\")\n",
    "                         \n",
    "    def pyramid(self):\n",
    "        try:\n",
    "            def print_pyramid(rows):\n",
    "                for i in range(1, rows + 1):\n",
    "                    print(\" \" * (rows - i) + \"* \" * i)\n",
    "\n",
    "            rows = int(input(\"Enter the number of rows for the pyramid: \"))\n",
    "            print_pyramid(rows) #calling a function outside a function\n",
    "        except Exception as e :\n",
    "            logging.exception(e)\n",
    "            logging.info(\"there is an error\")\n",
    "            \n",
    "    def pattern(self):\n",
    "        try:\n",
    "            n = int(input(\"enter a number : \"))\n",
    "\n",
    "            for i in range(n):\n",
    "                for j in range(i+1):\n",
    "                    print(j+1, end=\" \")\n",
    "                print(\"\\n\")\n",
    "                print()\n",
    "        except Exception as e :\n",
    "            logging.exception(e)\n",
    "            logging.info(\"there is an error\")\n",
    "            \n",
    "    def sumall(self):\n",
    "        try :\n",
    "            num = int(input(\"enter a number : \"))\n",
    "            sum = 0\n",
    "            for i in range(num+1):\n",
    "                sum+=i\n",
    "                print(i)\n",
    "            print(\"SUM OF ALL THE ENTERED ELEMENTS--->\",sum)\n",
    "            \n",
    "        except Exception as e :\n",
    "            logging.exception(e)\n",
    "            logging.info(\"there is an error\")\n",
    "            \n",
    "    def charstr(self):\n",
    "        try :\n",
    "            char = input(\"Enter a character (e.g., '*'): \")\n",
    "            size = int(input(\"Enter the number of rows and columns: \"))\n",
    "\n",
    "            for i in range(size):\n",
    "                print(char * size)\n",
    "        except Exception as e :\n",
    "            logging.exception(e)\n",
    "            logging.info(\"there is an error\")\n",
    "            \n",
    "    def factorial(self):\n",
    "        try:\n",
    "            # Getting user input for a positive integer\n",
    "            number = int(input(\"Enter a positive integer: \"))\n",
    "\n",
    "            # Check if the number is positive\n",
    "            if number < 0:\n",
    "                print(\"Please enter a positive integer.\")\n",
    "            else:\n",
    "                factorial = 1\n",
    "                # Calculating the factorial\n",
    "                for i in range(1, number + 1):\n",
    "                    factorial = factorial * i\n",
    "\n",
    "                # Displaying the factorial\n",
    "                print(\"The factorial of \" ,number ,\"is\" , factorial)\n",
    "                \n",
    "        except Exception as e :\n",
    "            logging.exception(e)\n",
    "            logging.info(\"there is an error\")\n",
    "            \n",
    "    def bmicalc(self):\n",
    "        try:\n",
    "            # asking for input from the users  \n",
    "            the_height = float(input(\"Enter the height in cm: \"))  \n",
    "            the_weight = float(input(\"Enter the weight in kg: \"))  \n",
    "            # defining a function for BMI  \n",
    "            BMI = the_weight / (the_height/100)**2  \n",
    "            # printing the BMI  \n",
    "            print(\"Your Body Mass Index is\", BMI)  \n",
    "\n",
    "            if BMI <= 18.5:  \n",
    "                print(\"Oops! You are underweight.\")  \n",
    "            elif BMI <= 24.9:  \n",
    "                print(\"Awesome! You are healthy.\")  \n",
    "            elif BMI <= 29.9:  \n",
    "                print(\"Eee! You are over weight.\")  \n",
    "            else:  \n",
    "                print(\"Seesh! You are obese.\")\n",
    "        except Exception as e :\n",
    "            logging.exception(e)\n",
    "            logging.info(\"there is an error\")\n",
    "        \n",
    "    def simple_intrest(self):\n",
    "        try:\n",
    "            principal_amount = float(input(\"enter the principal amount\"))\n",
    "            rate_of_intrest = float(input(\"enter the rate of intrest\"))\n",
    "            time  = float(input(\"enter a time\"))\n",
    "\n",
    "            simple_intrest = principal_amount  * rate_of_intrest * time /100\n",
    "\n",
    "            print(\"SIMPLE INTREST IS \",simple_intrest)\n",
    "        except Exception as e :\n",
    "            logging.exception(e)\n",
    "            logging.info(\"there is an error\")"
   ]
  },
  {
   "cell_type": "code",
   "execution_count": 64,
   "id": "5529c3eb",
   "metadata": {},
   "outputs": [],
   "source": [
    "op = output_methods()"
   ]
  },
  {
   "cell_type": "code",
   "execution_count": 65,
   "id": "5a551093",
   "metadata": {},
   "outputs": [
    {
     "name": "stdout",
     "output_type": "stream",
     "text": [
      "Hello, World!\n",
      "None\n"
     ]
    }
   ],
   "source": [
    "print(op.hello())"
   ]
  },
  {
   "cell_type": "code",
   "execution_count": 66,
   "id": "7445f088",
   "metadata": {},
   "outputs": [
    {
     "name": "stdout",
     "output_type": "stream",
     "text": [
      "enter a number for table 5\n",
      "5 * 1 = 5\n",
      "5 * 2 = 10\n",
      "5 * 3 = 15\n",
      "5 * 4 = 20\n",
      "5 * 5 = 25\n",
      "5 * 6 = 30\n",
      "5 * 7 = 35\n",
      "5 * 8 = 40\n",
      "5 * 9 = 45\n",
      "5 * 10 = 50\n",
      "None\n"
     ]
    }
   ],
   "source": [
    "print(op.multiplication())"
   ]
  },
  {
   "cell_type": "code",
   "execution_count": 67,
   "id": "caca8962",
   "metadata": {},
   "outputs": [
    {
     "name": "stdout",
     "output_type": "stream",
     "text": [
      "5\n",
      "4\n",
      "3\n",
      "2\n",
      "1\n",
      "Blast-off\n",
      "None\n"
     ]
    }
   ],
   "source": [
    "print(op.blast())"
   ]
  },
  {
   "cell_type": "code",
   "execution_count": 68,
   "id": "d51b4f27",
   "metadata": {},
   "outputs": [
    {
     "name": "stdout",
     "output_type": "stream",
     "text": [
      "Enter the number of rows for the pyramid: 5\n",
      "    * \n",
      "   * * \n",
      "  * * * \n",
      " * * * * \n",
      "* * * * * \n",
      "None\n"
     ]
    }
   ],
   "source": [
    "print(op.pyramid())"
   ]
  },
  {
   "cell_type": "code",
   "execution_count": 69,
   "id": "88b350c1",
   "metadata": {},
   "outputs": [
    {
     "name": "stdout",
     "output_type": "stream",
     "text": [
      "enter a number : 5\n",
      "1 \n",
      "\n",
      "\n",
      "1 2 \n",
      "\n",
      "\n",
      "1 2 3 \n",
      "\n",
      "\n",
      "1 2 3 4 \n",
      "\n",
      "\n",
      "1 2 3 4 5 \n",
      "\n",
      "\n",
      "None\n"
     ]
    }
   ],
   "source": [
    "print(op.pattern())"
   ]
  },
  {
   "cell_type": "code",
   "execution_count": 70,
   "id": "2dbdeb77",
   "metadata": {},
   "outputs": [
    {
     "name": "stdout",
     "output_type": "stream",
     "text": [
      "enter a number : 12\n",
      "0\n",
      "1\n",
      "2\n",
      "3\n",
      "4\n",
      "5\n",
      "6\n",
      "7\n",
      "8\n",
      "9\n",
      "10\n",
      "11\n",
      "12\n",
      "SUM OF ALL THE ENTERED ELEMENTS---> 78\n",
      "None\n"
     ]
    }
   ],
   "source": [
    "print(op.sumall())"
   ]
  },
  {
   "cell_type": "code",
   "execution_count": 71,
   "id": "db3572d6",
   "metadata": {},
   "outputs": [
    {
     "name": "stdout",
     "output_type": "stream",
     "text": [
      "Enter a character (e.g., '*'): *\n",
      "Enter the number of rows and columns: 5\n",
      "*****\n",
      "*****\n",
      "*****\n",
      "*****\n",
      "*****\n",
      "None\n"
     ]
    }
   ],
   "source": [
    "print(op.charstr())"
   ]
  },
  {
   "cell_type": "code",
   "execution_count": 74,
   "id": "8a15a551",
   "metadata": {},
   "outputs": [
    {
     "name": "stdout",
     "output_type": "stream",
     "text": [
      "Enter a positive integer: 4\n",
      "The factorial of  4 is 24\n",
      "None\n"
     ]
    }
   ],
   "source": [
    "print(op.factorial())"
   ]
  },
  {
   "cell_type": "code",
   "execution_count": 75,
   "id": "8a2f33fd",
   "metadata": {},
   "outputs": [
    {
     "name": "stdout",
     "output_type": "stream",
     "text": [
      "Enter the height in cm: 12\n",
      "Enter the weight in kg: 45\n",
      "Your Body Mass Index is 3125.0\n",
      "Seesh! You are obese.\n",
      "None\n"
     ]
    }
   ],
   "source": [
    "print(op.bmicalc())"
   ]
  },
  {
   "cell_type": "code",
   "execution_count": 76,
   "id": "55a6fb04",
   "metadata": {},
   "outputs": [
    {
     "name": "stdout",
     "output_type": "stream",
     "text": [
      "enter the principal amount1200\n",
      "enter the rate of intrest6\n",
      "enter a time45\n",
      "SIMPLE INTREST IS  3240.0\n",
      "None\n"
     ]
    }
   ],
   "source": [
    "print(op.simple_intrest())"
   ]
  },
  {
   "cell_type": "code",
   "execution_count": null,
   "id": "2036326f",
   "metadata": {},
   "outputs": [],
   "source": []
  }
 ],
 "metadata": {
  "kernelspec": {
   "display_name": "Python 3 (ipykernel)",
   "language": "python",
   "name": "python3"
  },
  "language_info": {
   "codemirror_mode": {
    "name": "ipython",
    "version": 3
   },
   "file_extension": ".py",
   "mimetype": "text/x-python",
   "name": "python",
   "nbconvert_exporter": "python",
   "pygments_lexer": "ipython3",
   "version": "3.11.4"
  }
 },
 "nbformat": 4,
 "nbformat_minor": 5
}
