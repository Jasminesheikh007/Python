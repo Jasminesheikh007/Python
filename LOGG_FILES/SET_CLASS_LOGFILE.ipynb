{
 "cells": [
  {
   "cell_type": "markdown",
   "id": "67d8b741",
   "metadata": {},
   "source": [
    "#### THERE IS SOME BASIC QUESTIONS ON PYTHON SET ... "
   ]
  },
  {
   "cell_type": "markdown",
   "id": "8a0ada8a",
   "metadata": {},
   "source": [
    "QUESTIONS :\n",
    "1. Create a set containing the names of your favorite animal.\n",
    "2. Create two sets of integers and perform set operations to find their union,\n",
    "intersection, and symmetric difference. Print the results.\n",
    "3. Create a set of cities. Write a program that checks if a specific city is in the set and\n",
    "prints a message indicating its presence or absence.\n",
    "4. Create an empty set and add elements to it using the add() method. Print the set after\n",
    "each addition.\n",
    "5. Given a set of numbers, remove a specific number from the set. Print the modified\n",
    "set.\n",
    "6. Make two sets of words (strings) and find the words that are unique to each set (not\n",
    "present in both sets). Print the results.\n",
    "7. Define two sets of numbers and determine if one set is a subset of the other. Print a\n",
    "message indicating the relationship.\n",
    "8. Make two sets and use the update() method to add the elements from one set to\n",
    "another. Print the updated set.\n",
    "9. Introduce a set of numbers and use a set comprehension to create a new set with\n",
    "only the even numbers.\n",
    "10. Create a set of names. Write a program that uses a loop to iterate through the set\n",
    "and print each name.\n"
   ]
  },
  {
   "cell_type": "markdown",
   "id": "c917d8a8",
   "metadata": {},
   "source": [
    "#### IMPLEMENTATION OF THIS PROBLEM STATEMENT IN MY PROGRAM :"
   ]
  },
  {
   "cell_type": "code",
   "execution_count": 1,
   "id": "72067072",
   "metadata": {},
   "outputs": [],
   "source": [
    "import logging\n",
    "logging.basicConfig(filename = \"set_log.log\", level = logging.DEBUG , format=\"%(asctime)s %(levelname)s %(message)s\")\n",
    "\n",
    "class set_log :\n",
    "    logging.info(\"we are in set class\")\n",
    "    \n",
    "    def animal_names(self) :\n",
    "        logging.info(\"we are in question 1\")\n",
    "        try :\n",
    "            logging.info(\"there is a try block\")\n",
    "            set1 = {'cat','dog','lion','tiger','elephant','rabbit'}\n",
    "\n",
    "            print(set1)\n",
    "            \n",
    "        except Exception as e :\n",
    "            logging.exception(e)\n",
    "            logging.info(\"there might be some error\")\n",
    "            \n",
    "    def set_operations(self) :\n",
    "        logging.info(\"we are in question 2\")\n",
    "        try :\n",
    "            logging.info(\"there is a try block\")\n",
    "            s1 = {1,2,3,4,5,}\n",
    "            s2 = {1,2,3,6,7,8}\n",
    "            print(\"The union of two sets A and B include all the elements of set A and B.\")\n",
    "\n",
    "            s = s1.union(s2)\n",
    "\n",
    "            print(\"union of \",s1,\"and\", s2 ,\"is\",s)\n",
    "            print()\n",
    "\n",
    "            print(\"The intersection of two sets A and B include the common elements between set A and B\")\n",
    "\n",
    "            s3 = s1.intersection(s2)\n",
    "            print(\"intersection of \",s1,\"and\", s2 ,\"is\",s3)\n",
    "            print()\n",
    "\n",
    "            print(\"The difference between two sets A and B include elements of set A that are not present on set B.\")\n",
    "            s4 = s1.difference(s2)\n",
    "            print(\"difference of \",s1,\"and\", s2 ,\"is\",s4)\n",
    "            \n",
    "        except Exception as e :\n",
    "            logging.exception(e)\n",
    "            logging.info(\"there might be some error\")\n",
    "            \n",
    "    def set_cities(self) :\n",
    "        logging.info(\"we are in question 3\")\n",
    "        try :\n",
    "            logging.info(\"there is a try block\")\n",
    "            set3 = {'nagpur','kanpur','bihar','rajasthan','delhi'}\n",
    "\n",
    "            print(\"nagpur is present or not\")\n",
    "            print('nagpur' in set3 ,\" present means true else false indication\")\n",
    "        except Exception as e :\n",
    "            logging.exception(e)\n",
    "            logging.info(\"there might be some error\")\n",
    "            \n",
    "    def add_set_element(self) :\n",
    "        logging.info(\"we are in question 4\")\n",
    "        try :\n",
    "            logging.info(\"there is a try block\")\n",
    "            # Creating an empty set\n",
    "            my_set = set()\n",
    "\n",
    "            # Adding elements to the set using add() method\n",
    "            my_set.add(5)\n",
    "            print(\"After adding 5:\", my_set)\n",
    "\n",
    "            my_set.add(10)\n",
    "            print(\"After adding 10:\", my_set)\n",
    "\n",
    "            my_set.add(15)\n",
    "            print(\"After adding 15:\", my_set)\n",
    "        \n",
    "        except Exception as e :\n",
    "            logging.exception(e)\n",
    "            logging.info(\"there might be some error\")\n",
    "        \n",
    "    def modified_set(self) :\n",
    "        logging.info(\"we are in question 5\")\n",
    "        try :\n",
    "            logging.info(\"there is a try block\")\n",
    "            set3 = {1,8,6,5,3,7,97,23,2}\n",
    "            set3.remove(8)\n",
    "\n",
    "            print(set3)\n",
    "        except Exception as e :\n",
    "            logging.exception(e)\n",
    "            logging.info(\"there might be some error\")\n",
    "            \n",
    "    def unique(self) :\n",
    "        logging.info(\"we are in question 6\")\n",
    "        try :\n",
    "            logging.info(\"there is a try block\")\n",
    "            print(\"with the use of intersectin we can find the common elements betwwen our two sets.\")\n",
    "            set4 = {'a','b','c','d'}\n",
    "\n",
    "            set5 = {'a','b','e','g'}\n",
    "\n",
    "            set6 = set4.intersection(set5)\n",
    "\n",
    "            print(set6)\n",
    "            \n",
    "        except Exception as e :\n",
    "            logging.exception(e)\n",
    "            logging.info(\"there might be some error\")\n",
    "            \n",
    "    def subset(self) :\n",
    "        logging.info(\"we are in question 7\")\n",
    "        try :\n",
    "            logging.info(\"there is a try block\")\n",
    "            # Define two sets of numbers\n",
    "            set1 = {1, 2, 3, 4, 5}\n",
    "            set2 = {3, 4}\n",
    "\n",
    "            # Check if set2 is a subset of set1\n",
    "            if set2.issubset(set1):         #ISSUBSET IS THE METHOD OF SET \n",
    "                print(\"set2 is a subset of set1.\")\n",
    "            else:\n",
    "                print(\"set2 is not a subset of set1.\")\n",
    "        except Exception as e :\n",
    "            logging.exception(e)\n",
    "            logging.info(\"there might be some error\")\n",
    "            \n",
    "    def update(self) :\n",
    "        logging.info(\"we are in question 8\")\n",
    "        try :\n",
    "            logging.info(\"there is a try block\")\n",
    "            set6 = {1,2,3,4,5,6}\n",
    "\n",
    "            set7 = {4,5,6,7,8,9}\n",
    "\n",
    "            set7.update(set6)\n",
    "            print(set7)\n",
    "        except Exception as e :\n",
    "            logging.exception(e)\n",
    "            logging.info(\"there might be some error\")\n",
    "            \n",
    "    def set_comphrension(self) :\n",
    "        logging.info(\"we are in question 9\")\n",
    "        try :\n",
    "            logging.info(\"there is a try block\")\n",
    "            new_set = {1,4,35,7,8,9,3,21,3}\n",
    "\n",
    "            set_comp = {i for i in new_set if i %2 ==0}\n",
    "\n",
    "            print(set_comp)\n",
    "            \n",
    "        except Exception as e :\n",
    "            logging.exception(e)\n",
    "            logging.info(\"there might be some error\")\n",
    "            \n",
    "    def set_loop(self):\n",
    "        logging.info(\"we are in question 10\")\n",
    "        try :\n",
    "            logging.info(\"there is a try block\")\n",
    "            print(\"by default the set is in ascending order\")\n",
    "            name_set = {'jasmine','aarti','mayuri','nikita','pratiksha'}\n",
    "\n",
    "            for i in name_set :\n",
    "                print(i)\n",
    "        except Exception as e :\n",
    "            logging.exception(e)\n",
    "            logging.info(\"there might be some error\")\n"
   ]
  },
  {
   "cell_type": "code",
   "execution_count": 2,
   "id": "fd4617c8",
   "metadata": {},
   "outputs": [],
   "source": [
    "st = set_log()"
   ]
  },
  {
   "cell_type": "code",
   "execution_count": 3,
   "id": "f747cfc3",
   "metadata": {},
   "outputs": [
    {
     "name": "stdout",
     "output_type": "stream",
     "text": [
      "{'elephant', 'dog', 'lion', 'rabbit', 'tiger', 'cat'}\n",
      "None\n"
     ]
    }
   ],
   "source": [
    "print(st.animal_names())"
   ]
  },
  {
   "cell_type": "code",
   "execution_count": 4,
   "id": "409b24f4",
   "metadata": {},
   "outputs": [
    {
     "name": "stdout",
     "output_type": "stream",
     "text": [
      "The union of two sets A and B include all the elements of set A and B.\n",
      "union of  {1, 2, 3, 4, 5} and {1, 2, 3, 6, 7, 8} is {1, 2, 3, 4, 5, 6, 7, 8}\n",
      "\n",
      "The intersection of two sets A and B include the common elements between set A and B\n",
      "intersection of  {1, 2, 3, 4, 5} and {1, 2, 3, 6, 7, 8} is {1, 2, 3}\n",
      "\n",
      "The difference between two sets A and B include elements of set A that are not present on set B.\n",
      "difference of  {1, 2, 3, 4, 5} and {1, 2, 3, 6, 7, 8} is {4, 5}\n",
      "None\n"
     ]
    }
   ],
   "source": [
    "print(st.set_operations())"
   ]
  },
  {
   "cell_type": "code",
   "execution_count": 5,
   "id": "a08d903c",
   "metadata": {},
   "outputs": [
    {
     "name": "stdout",
     "output_type": "stream",
     "text": [
      "nagpur is present or not\n",
      "True  present means true else false indication\n",
      "None\n"
     ]
    }
   ],
   "source": [
    "print(st.set_cities())"
   ]
  },
  {
   "cell_type": "code",
   "execution_count": 7,
   "id": "392ae482",
   "metadata": {},
   "outputs": [
    {
     "name": "stdout",
     "output_type": "stream",
     "text": [
      "After adding 5: {5}\n",
      "After adding 10: {10, 5}\n",
      "After adding 15: {10, 5, 15}\n",
      "None\n"
     ]
    }
   ],
   "source": [
    "print(st.add_set_element())"
   ]
  },
  {
   "cell_type": "code",
   "execution_count": 8,
   "id": "f3dd61c2",
   "metadata": {},
   "outputs": [
    {
     "name": "stdout",
     "output_type": "stream",
     "text": [
      "{1, 2, 3, 97, 5, 6, 7, 23}\n",
      "None\n"
     ]
    }
   ],
   "source": [
    "print(st.modified_set())"
   ]
  },
  {
   "cell_type": "code",
   "execution_count": 9,
   "id": "ebe2dbba",
   "metadata": {},
   "outputs": [
    {
     "name": "stdout",
     "output_type": "stream",
     "text": [
      "with the use of intersectin we can find the common elements betwwen our two sets.\n",
      "{'b', 'a'}\n",
      "None\n"
     ]
    }
   ],
   "source": [
    "print(st.unique())"
   ]
  },
  {
   "cell_type": "code",
   "execution_count": 10,
   "id": "caf0a933",
   "metadata": {},
   "outputs": [
    {
     "name": "stdout",
     "output_type": "stream",
     "text": [
      "set2 is a subset of set1.\n",
      "None\n"
     ]
    }
   ],
   "source": [
    "print(st. subset())"
   ]
  },
  {
   "cell_type": "code",
   "execution_count": 11,
   "id": "eb798193",
   "metadata": {},
   "outputs": [
    {
     "name": "stdout",
     "output_type": "stream",
     "text": [
      "{1, 2, 3, 4, 5, 6, 7, 8, 9}\n",
      "None\n"
     ]
    }
   ],
   "source": [
    "print(st.update())"
   ]
  },
  {
   "cell_type": "code",
   "execution_count": 12,
   "id": "83759b37",
   "metadata": {},
   "outputs": [
    {
     "name": "stdout",
     "output_type": "stream",
     "text": [
      "{8, 4}\n",
      "None\n"
     ]
    }
   ],
   "source": [
    "print(st.set_comphrension())"
   ]
  },
  {
   "cell_type": "code",
   "execution_count": 14,
   "id": "f339d46e",
   "metadata": {},
   "outputs": [
    {
     "name": "stdout",
     "output_type": "stream",
     "text": [
      "by default the set is in ascending order\n",
      "jasmine\n",
      "nikita\n",
      "mayuri\n",
      "aarti\n",
      "pratiksha\n",
      "None\n"
     ]
    }
   ],
   "source": [
    "print(st.set_loop())"
   ]
  },
  {
   "cell_type": "code",
   "execution_count": null,
   "id": "1e0a2cfe",
   "metadata": {},
   "outputs": [],
   "source": []
  },
  {
   "cell_type": "code",
   "execution_count": null,
   "id": "7f6bf0ba",
   "metadata": {},
   "outputs": [],
   "source": []
  }
 ],
 "metadata": {
  "kernelspec": {
   "display_name": "Python 3 (ipykernel)",
   "language": "python",
   "name": "python3"
  },
  "language_info": {
   "codemirror_mode": {
    "name": "ipython",
    "version": 3
   },
   "file_extension": ".py",
   "mimetype": "text/x-python",
   "name": "python",
   "nbconvert_exporter": "python",
   "pygments_lexer": "ipython3",
   "version": "3.11.4"
  }
 },
 "nbformat": 4,
 "nbformat_minor": 5
}
