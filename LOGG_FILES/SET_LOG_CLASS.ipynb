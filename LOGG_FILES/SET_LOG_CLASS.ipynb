{
 "cells": [
  {
   "cell_type": "code",
   "execution_count": 1,
   "id": "72067072",
   "metadata": {},
   "outputs": [],
   "source": [
    "import logging\n",
    "logging.basicConfig(filename = \"set_log.log\", level = logging.DEBUG , format=\"%(asctime)s %(levelname)s %(message)s\")\n",
    "\n",
    "class set_log :\n",
    "    logging.info(\"we are in set class\")\n",
    "    \n",
    "    def que1(self) :\n",
    "        logging.info(\"we are in question 1\")\n",
    "        try :\n",
    "            logging.info(\"there is a try block\")\n",
    "            set1 = {'cat','dog','lion','tiger','elephant','rabbit'}\n",
    "\n",
    "            print(set1)\n",
    "            \n",
    "        except Exception as e :\n",
    "            logging.exception(e)\n",
    "            logging.info(\"there might be some error\")\n",
    "            \n",
    "    def que2(self) :\n",
    "        logging.info(\"we are in question 2\")\n",
    "        try :\n",
    "            logging.info(\"there is a try block\")\n",
    "            s1 = {1,2,3,4,5,}\n",
    "            s2 = {1,2,3,6,7,8}\n",
    "            print(\"The union of two sets A and B include all the elements of set A and B.\")\n",
    "\n",
    "            s = s1.union(s2)\n",
    "\n",
    "            print(\"union of \",s1,\"and\", s2 ,\"is\",s)\n",
    "            print()\n",
    "\n",
    "            print(\"The intersection of two sets A and B include the common elements between set A and B\")\n",
    "\n",
    "            s3 = s1.intersection(s2)\n",
    "            print(\"intersection of \",s1,\"and\", s2 ,\"is\",s3)\n",
    "            print()\n",
    "\n",
    "            print(\"The difference between two sets A and B include elements of set A that are not present on set B.\")\n",
    "            s4 = s1.difference(s2)\n",
    "            print(\"difference of \",s1,\"and\", s2 ,\"is\",s4)\n",
    "            \n",
    "        except Exception as e :\n",
    "            logging.exception(e)\n",
    "            logging.info(\"there might be some error\")\n",
    "            \n",
    "    def que3(self) :\n",
    "        logging.info(\"we are in question 3\")\n",
    "        try :\n",
    "            logging.info(\"there is a try block\")\n",
    "            set3 = {'nagpur','kanpur','bihar','rajasthan','delhi'}\n",
    "\n",
    "            print(\"nagpur is present or not\")\n",
    "            print('nagpur' in set3 ,\" present means true else false indication\")\n",
    "        except Exception as e :\n",
    "            logging.exception(e)\n",
    "            logging.info(\"there might be some error\")\n",
    "            \n",
    "    def que4(self) :\n",
    "        logging.info(\"we are in question 4\")\n",
    "        try :\n",
    "            logging.info(\"there is a try block\")\n",
    "            # Creating an empty set\n",
    "            my_set = set()\n",
    "\n",
    "            # Adding elements to the set using add() method\n",
    "            my_set.add(5)\n",
    "            print(\"After adding 5:\", my_set)\n",
    "\n",
    "            my_set.add(10)\n",
    "            print(\"After adding 10:\", my_set)\n",
    "\n",
    "            my_set.add(15)\n",
    "            print(\"After adding 15:\", my_set)\n",
    "        \n",
    "        except Exception as e :\n",
    "            logging.exception(e)\n",
    "            logging.info(\"there might be some error\")\n",
    "        \n",
    "    def que5(self) :\n",
    "        logging.info(\"we are in question 5\")\n",
    "        try :\n",
    "            logging.info(\"there is a try block\")\n",
    "            set3 = {1,8,6,5,3,7,97,23,2}\n",
    "            set3.remove(8)\n",
    "\n",
    "            print(set3)\n",
    "        except Exception as e :\n",
    "            logging.exception(e)\n",
    "            logging.info(\"there might be some error\")\n",
    "            \n",
    "    def que6(self) :\n",
    "        logging.info(\"we are in question 6\")\n",
    "        try :\n",
    "            logging.info(\"there is a try block\")\n",
    "            print(\"with the use of intersectin we can find the common elements betwwen our two sets.\")\n",
    "            set4 = {'a','b','c','d'}\n",
    "\n",
    "            set5 = {'a','b','e','g'}\n",
    "\n",
    "            set6 = set4.intersection(set5)\n",
    "\n",
    "            print(set6)\n",
    "            \n",
    "        except Exception as e :\n",
    "            logging.exception(e)\n",
    "            logging.info(\"there might be some error\")\n",
    "            \n",
    "    def que7(self) :\n",
    "        logging.info(\"we are in question 7\")\n",
    "        try :\n",
    "            logging.info(\"there is a try block\")\n",
    "            # Define two sets of numbers\n",
    "            set1 = {1, 2, 3, 4, 5}\n",
    "            set2 = {3, 4}\n",
    "\n",
    "            # Check if set2 is a subset of set1\n",
    "            if set2.issubset(set1):         #ISSUBSET IS THE METHOD OF SET \n",
    "                print(\"set2 is a subset of set1.\")\n",
    "            else:\n",
    "                print(\"set2 is not a subset of set1.\")\n",
    "        except Exception as e :\n",
    "            logging.exception(e)\n",
    "            logging.info(\"there might be some error\")\n",
    "            \n",
    "    def que8(self) :\n",
    "        logging.info(\"we are in question 8\")\n",
    "        try :\n",
    "            logging.info(\"there is a try block\")\n",
    "            set6 = {1,2,3,4,5,6}\n",
    "\n",
    "            set7 = {4,5,6,7,8,9}\n",
    "\n",
    "            set7.update(set6)\n",
    "            print(set7)\n",
    "        except Exception as e :\n",
    "            logging.exception(e)\n",
    "            logging.info(\"there might be some error\")\n",
    "            \n",
    "    def que9(self) :\n",
    "        logging.info(\"we are in question 9\")\n",
    "        try :\n",
    "            logging.info(\"there is a try block\")\n",
    "            new_set = {1,4,35,7,8,9,3,21,3}\n",
    "\n",
    "            set_comp = {i for i in new_set if i %2 ==0}\n",
    "\n",
    "            print(set_comp)\n",
    "            \n",
    "        except Exception as e :\n",
    "            logging.exception(e)\n",
    "            logging.info(\"there might be some error\")\n",
    "            \n",
    "    def que10(self):\n",
    "        logging.info(\"we are in question 10\")\n",
    "        try :\n",
    "            logging.info(\"there is a try block\")\n",
    "            print(\"by default the set is in ascending order\")\n",
    "            name_set = {'jasmine','aarti','mayuri','nikita','pratiksha'}\n",
    "\n",
    "            for i in name_set :\n",
    "                print(i)\n",
    "        except Exception as e :\n",
    "            logging.exception(e)\n",
    "            logging.info(\"there might be some error\")\n"
   ]
  },
  {
   "cell_type": "code",
   "execution_count": 2,
   "id": "fd4617c8",
   "metadata": {},
   "outputs": [],
   "source": [
    "st = set_log()"
   ]
  },
  {
   "cell_type": "code",
   "execution_count": 3,
   "id": "f747cfc3",
   "metadata": {},
   "outputs": [
    {
     "name": "stdout",
     "output_type": "stream",
     "text": [
      "{'tiger', 'elephant', 'rabbit', 'lion', 'cat', 'dog'}\n",
      "None\n"
     ]
    }
   ],
   "source": [
    "print(st.que1())"
   ]
  },
  {
   "cell_type": "code",
   "execution_count": 4,
   "id": "409b24f4",
   "metadata": {},
   "outputs": [
    {
     "name": "stdout",
     "output_type": "stream",
     "text": [
      "The union of two sets A and B include all the elements of set A and B.\n",
      "union of  {1, 2, 3, 4, 5} and {1, 2, 3, 6, 7, 8} is {1, 2, 3, 4, 5, 6, 7, 8}\n",
      "\n",
      "The intersection of two sets A and B include the common elements between set A and B\n",
      "intersection of  {1, 2, 3, 4, 5} and {1, 2, 3, 6, 7, 8} is {1, 2, 3}\n",
      "\n",
      "The difference between two sets A and B include elements of set A that are not present on set B.\n",
      "difference of  {1, 2, 3, 4, 5} and {1, 2, 3, 6, 7, 8} is {4, 5}\n",
      "None\n"
     ]
    }
   ],
   "source": [
    "print(st.que2())"
   ]
  },
  {
   "cell_type": "code",
   "execution_count": 5,
   "id": "a08d903c",
   "metadata": {},
   "outputs": [
    {
     "name": "stdout",
     "output_type": "stream",
     "text": [
      "nagpur is present or not\n",
      "True  present means true else false indication\n",
      "None\n"
     ]
    }
   ],
   "source": [
    "print(st.que3())"
   ]
  },
  {
   "cell_type": "code",
   "execution_count": 6,
   "id": "392ae482",
   "metadata": {},
   "outputs": [
    {
     "name": "stdout",
     "output_type": "stream",
     "text": [
      "After adding 5: {5}\n",
      "After adding 10: {10, 5}\n",
      "After adding 15: {10, 5, 15}\n",
      "None\n"
     ]
    }
   ],
   "source": [
    "print(st.que4())"
   ]
  },
  {
   "cell_type": "code",
   "execution_count": 7,
   "id": "f3dd61c2",
   "metadata": {},
   "outputs": [
    {
     "name": "stdout",
     "output_type": "stream",
     "text": [
      "{1, 2, 3, 97, 5, 6, 7, 23}\n",
      "None\n"
     ]
    }
   ],
   "source": [
    "print(st.que5())"
   ]
  },
  {
   "cell_type": "code",
   "execution_count": 8,
   "id": "ebe2dbba",
   "metadata": {},
   "outputs": [
    {
     "name": "stdout",
     "output_type": "stream",
     "text": [
      "with the use of intersectin we can find the common elements betwwen our two sets.\n",
      "{'a', 'b'}\n",
      "None\n"
     ]
    }
   ],
   "source": [
    "print(st.que6())"
   ]
  },
  {
   "cell_type": "code",
   "execution_count": 9,
   "id": "caf0a933",
   "metadata": {},
   "outputs": [
    {
     "name": "stdout",
     "output_type": "stream",
     "text": [
      "set2 is a subset of set1.\n",
      "None\n"
     ]
    }
   ],
   "source": [
    "print(st.que7())"
   ]
  },
  {
   "cell_type": "code",
   "execution_count": 10,
   "id": "eb798193",
   "metadata": {},
   "outputs": [
    {
     "name": "stdout",
     "output_type": "stream",
     "text": [
      "{1, 2, 3, 4, 5, 6, 7, 8, 9}\n",
      "None\n"
     ]
    }
   ],
   "source": [
    "print(st.que8())"
   ]
  },
  {
   "cell_type": "code",
   "execution_count": 11,
   "id": "83759b37",
   "metadata": {},
   "outputs": [
    {
     "name": "stdout",
     "output_type": "stream",
     "text": [
      "{8, 4}\n",
      "None\n"
     ]
    }
   ],
   "source": [
    "print(st.que9())"
   ]
  },
  {
   "cell_type": "code",
   "execution_count": 12,
   "id": "f339d46e",
   "metadata": {},
   "outputs": [
    {
     "name": "stdout",
     "output_type": "stream",
     "text": [
      "by default the set is in ascending order\n",
      "mayuri\n",
      "pratiksha\n",
      "aarti\n",
      "jasmine\n",
      "nikita\n",
      "None\n"
     ]
    }
   ],
   "source": [
    "print(st.que10())"
   ]
  },
  {
   "cell_type": "code",
   "execution_count": null,
   "id": "1e0a2cfe",
   "metadata": {},
   "outputs": [],
   "source": []
  }
 ],
 "metadata": {
  "kernelspec": {
   "display_name": "Python 3 (ipykernel)",
   "language": "python",
   "name": "python3"
  },
  "language_info": {
   "codemirror_mode": {
    "name": "ipython",
    "version": 3
   },
   "file_extension": ".py",
   "mimetype": "text/x-python",
   "name": "python",
   "nbconvert_exporter": "python",
   "pygments_lexer": "ipython3",
   "version": "3.11.4"
  }
 },
 "nbformat": 4,
 "nbformat_minor": 5
}
