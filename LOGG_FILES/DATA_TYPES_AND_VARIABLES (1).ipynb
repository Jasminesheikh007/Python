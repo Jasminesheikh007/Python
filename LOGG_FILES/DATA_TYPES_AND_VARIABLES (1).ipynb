{
 "cells": [
  {
   "cell_type": "raw",
   "id": "b08453e1",
   "metadata": {},
   "source": [
    "vARIABLES AND DATA TYPES : \n",
    "Variables can store data of different types, and different types can do different things.\n",
    "Data types are the classification or categorization of data items. It represents the kind of value that tells what operations can be performed on a particular data. Since everything is an object in Python programming, data types are classes and variables are instances (objects) of these classes. The following are the standard or built-in data types in Python:\n",
    "\n",
    "Numeric\n",
    "Sequence Type\n",
    "Boolean\n",
    "Set\n",
    "Dictionary"
   ]
  },
  {
   "cell_type": "markdown",
   "id": "3c14bbd4",
   "metadata": {},
   "source": [
    "#### THERE IS SOME BASIC QUESTIONS OF DATA TYPES AND VARIABLES... "
   ]
  },
  {
   "cell_type": "raw",
   "id": "09a610ef",
   "metadata": {},
   "source": [
    "1. Create two variables, a and b, and swap their values without using a temporary\n",
    "variable.\n",
    "2. Ask the user for an integer and convert it to a string. Then, print the data type of the\n",
    "converted variable.\n",
    "3. Make a list of numbers and add a new number to the end of the list. Then, remove\n",
    "the first element and print the modified list.\n",
    "4. Assume a program that asks the user for their name and age. Then, use string\n",
    "formatting to display a message like \"Hello, [Name]! You are [Age] years old.\"\n",
    "5. Create variables for two numbers and perform addition, subtraction, multiplication,\n",
    "and division operations. Print the results.\n",
    "6. Define a constant variable in Python and try to modify its value. Explain whether it's\n",
    "possible or not.\n",
    "7. Write a program that checks the data type of a variable and prints a message based\n",
    "on whether it's an integer, float, string, or another type.\n",
    "8. Generate a list of squares of numbers from 1 to 10 using list comprehension.\n",
    "9. Create a program that attempts to convert a string to an integer. Handle any potential\n",
    "errors and print an error message.\n",
    "10. Write a program with variables that follow both the snake_case and CamelCase\n",
    "naming conventions. Print a message explaining the conventions.\n"
   ]
  },
  {
   "cell_type": "markdown",
   "id": "7dfc3617",
   "metadata": {},
   "source": [
    "#### IMPLEMENTATION OF THIS PROBLEM STATEMENT IN MY PROGRAM :"
   ]
  },
  {
   "cell_type": "code",
   "execution_count": 1,
   "id": "7142b6c2",
   "metadata": {},
   "outputs": [],
   "source": [
    "import logging\n",
    "\n",
    "logging.basicConfig(filename=\"datatypes.log\", level=logging.DEBUG, format=\"%(asctime)s %(levelname)s %(message)s\")"
   ]
  },
  {
   "cell_type": "code",
   "execution_count": 2,
   "id": "95051eee",
   "metadata": {},
   "outputs": [],
   "source": [
    "class data_type_variable :\n",
    "    logging.info(\"we are in data types and variable class\")\n",
    "    \n",
    "    def swap(self) :\n",
    "        logging.info(\"we are in question 1\")\n",
    "        try : \n",
    "            \n",
    "            a = int(input(\"enter a number\"))\n",
    "            b = int(input(\"enter a number\"))\n",
    "            print(\"the value of a is\", a ,\"the value of b is\",b)\n",
    "            a = a - b \n",
    "            print('a = a - b is',a)\n",
    "            b = a + b\n",
    "            print('b = a + b is',b)\n",
    "            a = b - a;\n",
    "            print(\"a = b - a is\",a)\n",
    "            print(\"after swapping the value of a is \",a)\n",
    "            print(\"after swapping the value of b is \",b)\n",
    "        except Exception as e :\n",
    "            logging.exception(e)\n",
    "            logging.info(\"there is an error\")\n",
    "            \n",
    "    def string(self) :\n",
    "        logging.info(\"we are in question 2\")\n",
    "        \n",
    "        try :\n",
    "            integer = int(input(\"enter a number :\"))\n",
    "            print(\"integer value is : \" , integer )\n",
    "            string = str(integer)\n",
    "\n",
    "            print(\"string value is :  \" ,string)\n",
    "            type(string)\n",
    "            \n",
    "        except Exception as e :\n",
    "            logging.exception(e)\n",
    "            logging.info(\"there is an error\")\n",
    "            \n",
    "    def insertremove(self) :\n",
    "        logging.info(\"we are in question 3\")\n",
    "        \n",
    "        try :\n",
    "            list = [1,2,3,4,5,6,7,8,9]\n",
    "            print(\"original list : \",list)\n",
    "\n",
    "            list.insert(10,10)\n",
    "\n",
    "            list.remove(1)\n",
    "\n",
    "            print(\"modified list is : \", list)\n",
    "        except Exception as e :\n",
    "            logging.exception(e)\n",
    "            logging.info(\"there is an error\")\n",
    "            \n",
    "    def stringf(self) :\n",
    "        logging.info(\"we are in question 4\")\n",
    "        try :\n",
    "            name = input(\"enter a name : \")\n",
    "            age = int(input(\"enter the age : \"))\n",
    "            print(\"Hello\",name,\"!\",\"You are\",age,\"years old\")\n",
    "        \n",
    "        except Exception as e :\n",
    "            logging.exception(e)\n",
    "            logging.info(\"there is an error\")\n",
    "            \n",
    "    def operations(self) :\n",
    "        logging.info(\"we are in question 5\")\n",
    "        try :\n",
    "            a = int(input(\"enter a number : \"))\n",
    "            b = int(input(\"enter a number : \"))\n",
    "\n",
    "            c = a+b\n",
    "            print (\"ADDITION OF TWO NUMBERS IS \",c)\n",
    "\n",
    "            d = a-b\n",
    "            print(\"SUBTRACTION OF TWO NUMBERS IS \",d)\n",
    "\n",
    "            e = a*b\n",
    "            print(\"MULTIPLICATION OF TWO NUMBERS IS \",e)\n",
    "\n",
    "            f = a/b\n",
    "            print(\"DIVISION OF TWO NUMBERS IS \",f)\n",
    "\n",
    "            print()\n",
    "            print(\"------>\",\"RESULTS\",\"<------\")\n",
    "            print(\"ADDITION       ----->\",c)\n",
    "            print(\"SUBTRACTION    ----->\",d)\n",
    "            print(\"MULTIPLICATION ----->\",e)\n",
    "            print(\"DIVISION       ----->\",f)\n",
    "        except Exception as e :\n",
    "            logging.exception(e)\n",
    "            logging.info(\"there is an error\")\n",
    "            \n",
    "    def constant(self) :\n",
    "        logging.info(\"we are in question 6\")\n",
    "        \n",
    "        try :\n",
    "            print(\"we can reassign the values in constant\")\n",
    "            constant = 44\n",
    "\n",
    "            print(constant)\n",
    "            \n",
    "            constant = 120\n",
    "\n",
    "            print(constant)\n",
    "        except Exception as e :\n",
    "            logging.exception(e)\n",
    "            logging.info(\"there is an error\") \n",
    "    def intornot(self) :\n",
    "        logging.info(\"we are in question 7\")\n",
    "        \n",
    "        try :\n",
    "            n = eval(input(\"enter a number : \"))\n",
    "\n",
    "            if type(n)== int:\n",
    "                print(\"the number is an integer\")\n",
    "            elif type(n) == float :\n",
    "                print(\"the number is float \")\n",
    "            elif type(n) == str :\n",
    "                print(\"this is string\")\n",
    "    \n",
    "            else : \n",
    "                print(\"another type\")\n",
    "                \n",
    "        except Exception as e :\n",
    "            logging.exception(e)\n",
    "            logging.info(\"there is an error\")\n",
    "            \n",
    "    def comprehension(self) :\n",
    "        logging.info(\"we are in question 8\")\n",
    "        \n",
    "        try :\n",
    "            list = [i*i for i in range(10)]\n",
    "            print(list)\n",
    "            \n",
    "        except Exception as e :\n",
    "            logging.exception(e)\n",
    "            logging.info(\"there is an error\")\n",
    "    \n",
    "    def strtoint(self) :\n",
    "        logging.info(\"we are in question9\")\n",
    "        try :\n",
    "            strings = input(\"enter a string\")\n",
    "            print('we cannot convert a integer(a number)into a string value')\n",
    "            s = type(strings)\n",
    "            v = int(strings)\n",
    "            print (s)\n",
    "        except Exception as e :\n",
    "            print(e)\n",
    "            \n",
    "    def snakecase(self) :\n",
    "        logging.info(\"we are in question10\")\n",
    "        try :\n",
    "            #SNAKE_CASE \n",
    "            student_name = input(\"enter a student name \")\n",
    "            maths_score = int(input('enter a maths scores'))\n",
    "            science_score = int(input(\"enter the science score\"))\n",
    "\n",
    "            print(\"name is ---->\",student_name)\n",
    "\n",
    "            print(\"maths score is ---->\",maths_score)\n",
    "\n",
    "            print(\"science score is ---->\",science_score)\n",
    "            \n",
    "        except Exception as e :\n",
    "            logging.exception(e)\n",
    "            logging.info(\"there is an error\")\n",
    "        \n",
    "        "
   ]
  },
  {
   "cell_type": "code",
   "execution_count": 3,
   "id": "0c239818",
   "metadata": {},
   "outputs": [],
   "source": [
    "dt = data_type_variable()"
   ]
  },
  {
   "cell_type": "code",
   "execution_count": 46,
   "id": "37c28c08",
   "metadata": {},
   "outputs": [
    {
     "name": "stdout",
     "output_type": "stream",
     "text": [
      "enter a number12\n",
      "enter a number4\n",
      "the value of a is 12 the value of b is 4\n",
      "a = a - b is 8\n",
      "b = a + b is 12\n",
      "a = b - a is 4\n",
      "after swapping the value of a is  4\n",
      "after swapping the value of b is  12\n",
      "None\n"
     ]
    }
   ],
   "source": [
    "print(dt.swap())"
   ]
  },
  {
   "cell_type": "code",
   "execution_count": 47,
   "id": "b4ff59bc",
   "metadata": {},
   "outputs": [
    {
     "name": "stdout",
     "output_type": "stream",
     "text": [
      "enter a number :3334\n",
      "integer value is :  3334\n",
      "string value is :   3334\n",
      "None\n"
     ]
    }
   ],
   "source": [
    "print(dt.string())"
   ]
  },
  {
   "cell_type": "code",
   "execution_count": 48,
   "id": "85f4f9cb",
   "metadata": {},
   "outputs": [
    {
     "name": "stdout",
     "output_type": "stream",
     "text": [
      "original list :  [1, 2, 3, 4, 5, 6, 7, 8, 9]\n",
      "modified list is :  [2, 3, 4, 5, 6, 7, 8, 9, 10]\n",
      "None\n"
     ]
    }
   ],
   "source": [
    "print(dt.insertremove())"
   ]
  },
  {
   "cell_type": "code",
   "execution_count": 49,
   "id": "e6a501dc",
   "metadata": {},
   "outputs": [
    {
     "name": "stdout",
     "output_type": "stream",
     "text": [
      "enter a name : harsh\n",
      "enter the age : 34\n",
      "Hello harsh ! You are 34 years old\n",
      "None\n"
     ]
    }
   ],
   "source": [
    "print(dt.stringf())"
   ]
  },
  {
   "cell_type": "code",
   "execution_count": 50,
   "id": "12335a76",
   "metadata": {},
   "outputs": [
    {
     "name": "stdout",
     "output_type": "stream",
     "text": [
      "enter a number : 12\n",
      "enter a number : 56\n",
      "ADDITION OF TWO NUMBERS IS  68\n",
      "SUBTRACTION OF TWO NUMBERS IS  -44\n",
      "MULTIPLICATION OF TWO NUMBERS IS  672\n",
      "DIVISION OF TWO NUMBERS IS  0.21428571428571427\n",
      "\n",
      "------> RESULTS <------\n",
      "ADDITION       -----> 68\n",
      "SUBTRACTION    -----> -44\n",
      "MULTIPLICATION -----> 672\n",
      "DIVISION       -----> 0.21428571428571427\n",
      "None\n"
     ]
    }
   ],
   "source": [
    "print(dt.operations())"
   ]
  },
  {
   "cell_type": "code",
   "execution_count": 51,
   "id": "fd25de57",
   "metadata": {},
   "outputs": [
    {
     "name": "stdout",
     "output_type": "stream",
     "text": [
      "we can reassign the values in constant\n",
      "44\n",
      "120\n",
      "None\n"
     ]
    }
   ],
   "source": [
    "print(dt.constant())"
   ]
  },
  {
   "cell_type": "code",
   "execution_count": 52,
   "id": "8a8606b3",
   "metadata": {},
   "outputs": [
    {
     "name": "stdout",
     "output_type": "stream",
     "text": [
      "enter a number : 12\n",
      "the number is an integer\n",
      "None\n"
     ]
    }
   ],
   "source": [
    "print(dt.intornot())"
   ]
  },
  {
   "cell_type": "code",
   "execution_count": 53,
   "id": "2a941288",
   "metadata": {},
   "outputs": [
    {
     "name": "stdout",
     "output_type": "stream",
     "text": [
      "[0, 1, 4, 9, 16, 25, 36, 49, 64, 81]\n",
      "None\n"
     ]
    }
   ],
   "source": [
    "print(dt.comprehension())"
   ]
  },
  {
   "cell_type": "code",
   "execution_count": 54,
   "id": "b64686f9",
   "metadata": {},
   "outputs": [
    {
     "name": "stdout",
     "output_type": "stream",
     "text": [
      "enter a stringdsa\n",
      "we cannot convert a integer(a number)into a string value\n",
      "invalid literal for int() with base 10: 'dsa'\n",
      "None\n"
     ]
    }
   ],
   "source": [
    "print(dt.strtoint())"
   ]
  },
  {
   "cell_type": "code",
   "execution_count": 62,
   "id": "6cc2a9d0",
   "metadata": {},
   "outputs": [
    {
     "name": "stdout",
     "output_type": "stream",
     "text": [
      "enter a student name jasmine\n",
      "enter a maths scores34\n",
      "enter the science score56\n",
      "name is ----> jasmine\n",
      "maths score is ----> 34\n",
      "science score is ----> 56\n",
      "None\n"
     ]
    }
   ],
   "source": [
    "print(dt.snakecase())"
   ]
  },
  {
   "cell_type": "code",
   "execution_count": null,
   "id": "689d8a0b",
   "metadata": {},
   "outputs": [],
   "source": []
  }
 ],
 "metadata": {
  "kernelspec": {
   "display_name": "Python 3 (ipykernel)",
   "language": "python",
   "name": "python3"
  },
  "language_info": {
   "codemirror_mode": {
    "name": "ipython",
    "version": 3
   },
   "file_extension": ".py",
   "mimetype": "text/x-python",
   "name": "python",
   "nbconvert_exporter": "python",
   "pygments_lexer": "ipython3",
   "version": "3.11.4"
  }
 },
 "nbformat": 4,
 "nbformat_minor": 5
}
