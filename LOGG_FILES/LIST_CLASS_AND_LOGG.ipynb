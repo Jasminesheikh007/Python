{
 "cells": [
  {
   "cell_type": "raw",
   "id": "6822f8b1",
   "metadata": {},
   "source": [
    "Python Lists are just like dynamically sized arrays, declared in other languages. In simple language, a list is a collection of things, enclosed in [ ] and separated by commas. "
   ]
  },
  {
   "cell_type": "markdown",
   "id": "fac0bc3a",
   "metadata": {},
   "source": [
    "#### THERE IS SOME BASIC QUESTIONS ON PYTHON LIST ... "
   ]
  },
  {
   "cell_type": "raw",
   "id": "1bcc952d",
   "metadata": {},
   "source": [
    "QUESTIONS : \n",
    "1. Create a list of your favorite fruits. Add a new fruit to the list, remove one fruit, and\n",
    "print the modified list.\n",
    "2. Write a program that calculates the sum of all the numbers in a given list of integers.\n",
    "3. Generate a list of the squares of the numbers from 1 to 10 using list comprehension.\n",
    "4. Make a list of numbers and use list comprehension to create a new list with only the\n",
    "even numbers.\n",
    "5. Write a program that reverses a given list without using the reverse() method or\n",
    "slicing.\n",
    "6.Make a list of words (strings) and sort them in alphabetical order. Print both the\n",
    "original and sorted lists.\n",
    "7. Combine two lists into a single list without using the + operator. Print the merged list.\n",
    "8. Given a list and a specific element, write a program to remove all occurrences of that\n",
    "element from the list.\n",
    "9. Create two lists of numbers and find the common elements between them. Print the\n",
    "result.\n",
    "10. Take a list of words and print the first three and last three words without changing\n",
    "the original list."
   ]
  },
  {
   "cell_type": "markdown",
   "id": "e4810e3c",
   "metadata": {},
   "source": [
    "#### IMPLEMENTATION OF THIS PROBLEM STATEMENT IN MY PROGRAM :"
   ]
  },
  {
   "cell_type": "code",
   "execution_count": 12,
   "id": "e55fb173",
   "metadata": {},
   "outputs": [],
   "source": [
    "import logging \n",
    "\n",
    "logging.basicConfig(filename=\"assign.log\", level=logging.DEBUG, format=\"%(asctime)s %(levelname)s %(message)s\")\n",
    "\n",
    "class listt :\n",
    "    logging.info(\"we are in listt class\")\n",
    "    def que1(self) :\n",
    "        try :\n",
    "            logging.info(\"we are in question 1\")\n",
    "            fruits = ['mango','banana','stawberry']\n",
    "            print(\"original list\",fruits)\n",
    "            fruits.insert(4,'cherry')\n",
    "            print(\"list after adding cherry\",fruits)\n",
    "\n",
    "            fruits.remove('mango')\n",
    "            print(\"modified list after removing mango\",fruits)\n",
    "        \n",
    "        except Exception as e :\n",
    "            logging.exception(e)\n",
    "            logging.info(\"there is an error\")\n",
    "            \n",
    "    def que2(self) : \n",
    "        logging.info(\"we are in que2\")\n",
    "        try :\n",
    "            logging.info(\"we are in try block of que2\")\n",
    "            list = [1,2,3,4,5,6]\n",
    "            print(\"the list which we have\",list)\n",
    "            sum = 0\n",
    "            for i in list :\n",
    "                sum = sum + i\n",
    "                print(\"sum of all elements in given list\",sum)\n",
    "            \n",
    "        except Exception as e :\n",
    "            logging.exception(e)\n",
    "            logging.info(\"there is some errors\")\n",
    "            \n",
    "    def que3(self) :\n",
    "        logging.info(\"we are in que3\")\n",
    "        try:\n",
    "            list = [i *i for i in range(1,10)]\n",
    "            print(list)\n",
    "        except Exception as e :\n",
    "            logging.exception(e)\n",
    "            logging.info(\"there is errors\")\n",
    "    \n",
    "    def que4(self) :\n",
    "        logging.info(\"we are in que4\")\n",
    "        try:\n",
    "            list = [3,4,6,8,7,9]\n",
    "            l2 = [i for i in list if i%2 == 0]\n",
    "            print(l2)\n",
    "        except Exception as e :\n",
    "            logging.exception(e)\n",
    "            logging.info(\"might be some error found\")\n",
    "    def que5(self) :\n",
    "        logging.info(\"we are in que 5\")\n",
    "        try :\n",
    "            list = [2,7,9,10,5,4,5]\n",
    "            l = list[::-1]\n",
    "            print(l)\n",
    "        except Exception as e :\n",
    "            logging.exception(e)\n",
    "            logging.info(\"might be error in que5\")\n",
    "    def que6(self) :\n",
    "        logging.info(\"we are in question 6\")\n",
    "        try :\n",
    "            list1 = ['a','j','k','p','s','b','c','f']\n",
    "            list1.sort()\n",
    "            print(list1)\n",
    "        except Exception as e :\n",
    "            logging.exception(e)\n",
    "            logging.info(\"might be error in que5\")\n",
    "    def que7(self) :\n",
    "        logging.info(\"we are in question 6\")\n",
    "        try :\n",
    "            list1 = [1,2,3,4,5]\n",
    "            list2 = [6,7,8,9,10]\n",
    "            list1.extend(list2)\n",
    "            print(list1)\n",
    "        except Exception as e :\n",
    "            logging.exception(e)\n",
    "            logging.info(\"might be error in que7\")\n",
    "    def que8(self) :\n",
    "        logging.info(\"we are in question 8\")\n",
    "        try :\n",
    "            list1 = [1, 2, 3, 4, 1, 1, 1, 4, 5] \n",
    "  \n",
    "            # looping till all 1's are removed \n",
    "            while (list1.count(1)):\n",
    "            \n",
    "                list1.remove(1)  \n",
    "                print(list1)\n",
    "        except Exception as e :\n",
    "            logging.exception(e)\n",
    "            logging.info(\"might be error in que8\")\n",
    "    def que9(self) :\n",
    "        logging.info(\"we are in que 9\")\n",
    "        try :\n",
    "            list1 = [1,2,3,4,5,6]\n",
    "            list2 = [3, 5, 7, 9]\n",
    "\n",
    "            l2 = list(set(list1).intersection(list2))\n",
    "            print(l2)\n",
    "        except Exception as e :\n",
    "            logging.exception(e)\n",
    "            logging.info(\"might be error in que9\")\n",
    "    def que10(self) :\n",
    "        logging.info(\"we are in que10\")\n",
    "        try :\n",
    "            my_list = ['data','analytcs','machine','learning','artifical','intelligence']\n",
    "\n",
    "            first_three_words = my_list[ : 3]\n",
    "\n",
    "            print(\"first three words are \" , first_three_words)\n",
    "\n",
    "            last_three_words = my_list[-3 : ]\n",
    "            print(\"last three words are \", last_three_words)\n",
    "            \n",
    "        except Exception as e :\n",
    "            logging.exception(e)\n",
    "            logging.info(\"might be error in que10\")\n",
    "       "
   ]
  },
  {
   "cell_type": "code",
   "execution_count": 13,
   "id": "4d5fdf2b",
   "metadata": {},
   "outputs": [],
   "source": [
    "lt = listt()"
   ]
  },
  {
   "cell_type": "code",
   "execution_count": 14,
   "id": "80f11d98",
   "metadata": {},
   "outputs": [
    {
     "name": "stdout",
     "output_type": "stream",
     "text": [
      "original list ['mango', 'banana', 'stawberry']\n",
      "list after adding cherry ['mango', 'banana', 'stawberry', 'cherry']\n",
      "modified list after removing mango ['banana', 'stawberry', 'cherry']\n",
      "None\n"
     ]
    }
   ],
   "source": [
    "print(lt.que1())"
   ]
  },
  {
   "cell_type": "code",
   "execution_count": 15,
   "id": "7e0e5146",
   "metadata": {},
   "outputs": [
    {
     "name": "stdout",
     "output_type": "stream",
     "text": [
      "the list which we have [1, 2, 3, 4, 5, 6]\n",
      "sum of all elements in given list 1\n",
      "sum of all elements in given list 3\n",
      "sum of all elements in given list 6\n",
      "sum of all elements in given list 10\n",
      "sum of all elements in given list 15\n",
      "sum of all elements in given list 21\n",
      "None\n"
     ]
    }
   ],
   "source": [
    "print(lt.que2())"
   ]
  },
  {
   "cell_type": "code",
   "execution_count": 16,
   "id": "a28df00a",
   "metadata": {},
   "outputs": [
    {
     "name": "stdout",
     "output_type": "stream",
     "text": [
      "[1, 4, 9, 16, 25, 36, 49, 64, 81]\n",
      "None\n"
     ]
    }
   ],
   "source": [
    "print(lt.que3())"
   ]
  },
  {
   "cell_type": "code",
   "execution_count": 17,
   "id": "c9cf6781",
   "metadata": {},
   "outputs": [
    {
     "name": "stdout",
     "output_type": "stream",
     "text": [
      "[4, 6, 8]\n",
      "None\n"
     ]
    }
   ],
   "source": [
    "print(lt.que4())"
   ]
  },
  {
   "cell_type": "code",
   "execution_count": 18,
   "id": "bc1310ba",
   "metadata": {},
   "outputs": [
    {
     "name": "stdout",
     "output_type": "stream",
     "text": [
      "[5, 4, 5, 10, 9, 7, 2]\n",
      "None\n"
     ]
    }
   ],
   "source": [
    "print(lt.que5())"
   ]
  },
  {
   "cell_type": "code",
   "execution_count": 19,
   "id": "77003789",
   "metadata": {},
   "outputs": [
    {
     "name": "stdout",
     "output_type": "stream",
     "text": [
      "['a', 'b', 'c', 'f', 'j', 'k', 'p', 's']\n",
      "None\n"
     ]
    }
   ],
   "source": [
    "print(lt.que6())"
   ]
  },
  {
   "cell_type": "code",
   "execution_count": 20,
   "id": "13cb84d9",
   "metadata": {},
   "outputs": [
    {
     "name": "stdout",
     "output_type": "stream",
     "text": [
      "[1, 2, 3, 4, 5, 6, 7, 8, 9, 10]\n",
      "None\n"
     ]
    }
   ],
   "source": [
    "print(lt.que7())"
   ]
  },
  {
   "cell_type": "code",
   "execution_count": 21,
   "id": "ea46503e",
   "metadata": {},
   "outputs": [
    {
     "name": "stdout",
     "output_type": "stream",
     "text": [
      "[2, 3, 4, 1, 1, 1, 4, 5]\n",
      "[2, 3, 4, 1, 1, 4, 5]\n",
      "[2, 3, 4, 1, 4, 5]\n",
      "[2, 3, 4, 4, 5]\n",
      "None\n"
     ]
    }
   ],
   "source": [
    "print(lt.que8())"
   ]
  },
  {
   "cell_type": "code",
   "execution_count": 22,
   "id": "9eb884ac",
   "metadata": {},
   "outputs": [
    {
     "name": "stdout",
     "output_type": "stream",
     "text": [
      "[3, 5]\n",
      "None\n"
     ]
    }
   ],
   "source": [
    "print(lt.que9())"
   ]
  },
  {
   "cell_type": "code",
   "execution_count": 23,
   "id": "1f4d94d4",
   "metadata": {},
   "outputs": [
    {
     "name": "stdout",
     "output_type": "stream",
     "text": [
      "first three words are  ['data', 'analytcs', 'machine']\n",
      "last three words are  ['learning', 'artifical', 'intelligence']\n",
      "None\n"
     ]
    }
   ],
   "source": [
    "print(lt.que10())"
   ]
  },
  {
   "cell_type": "code",
   "execution_count": null,
   "id": "b9d4ac31",
   "metadata": {},
   "outputs": [],
   "source": []
  }
 ],
 "metadata": {
  "kernelspec": {
   "display_name": "Python 3 (ipykernel)",
   "language": "python",
   "name": "python3"
  },
  "language_info": {
   "codemirror_mode": {
    "name": "ipython",
    "version": 3
   },
   "file_extension": ".py",
   "mimetype": "text/x-python",
   "name": "python",
   "nbconvert_exporter": "python",
   "pygments_lexer": "ipython3",
   "version": "3.11.4"
  }
 },
 "nbformat": 4,
 "nbformat_minor": 5
}
