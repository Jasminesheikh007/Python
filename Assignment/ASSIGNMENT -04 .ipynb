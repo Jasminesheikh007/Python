{
 "cells": [
  {
   "cell_type": "raw",
   "id": "5fbc8159",
   "metadata": {},
   "source": [
    "ASSIGNMENT - 04 "
   ]
  },
  {
   "cell_type": "raw",
   "id": "e0ea2da2",
   "metadata": {},
   "source": [
    "QUESTION : 01 \n",
    "What exactly is []?"
   ]
  },
  {
   "cell_type": "raw",
   "id": "bbff0d95",
   "metadata": {},
   "source": [
    "ANSWER :\n",
    "This is a empty list [] . "
   ]
  },
  {
   "cell_type": "raw",
   "id": "16e1e3e3",
   "metadata": {},
   "source": [
    "QUESTION -02 :\n",
    "In a list of values stored in a variable called spam, how would you assign the value 'hello' as the third value? (Assume [2, 4, 6, 8, 10] are in spam.)"
   ]
  },
  {
   "cell_type": "raw",
   "id": "22fba746",
   "metadata": {},
   "source": [
    "ANSWER :\n"
   ]
  },
  {
   "cell_type": "code",
   "execution_count": 4,
   "id": "e47b6bfc",
   "metadata": {},
   "outputs": [
    {
     "name": "stdout",
     "output_type": "stream",
     "text": [
      "[2, 4, 'hello', 8, 10]\n"
     ]
    }
   ],
   "source": [
    "spam = [2,4,6,8,10]\n",
    "spam[2] = 'hello'    # here I have added the hello as our third value in the list \n",
    "print (spam)"
   ]
  },
  {
   "cell_type": "raw",
   "id": "a6cee68f",
   "metadata": {},
   "source": [
    "QUESTION - 03 :\n",
    "spam = ['a','b','c','d']\n",
    "\n",
    "--> What is the value of spam[int(int('3' * 2) / 11)]?"
   ]
  },
  {
   "cell_type": "raw",
   "id": "a2da202e",
   "metadata": {},
   "source": [
    "ANSWER :"
   ]
  },
  {
   "cell_type": "code",
   "execution_count": 6,
   "id": "ba96adda",
   "metadata": {},
   "outputs": [
    {
     "data": {
      "text/plain": [
       "'d'"
      ]
     },
     "execution_count": 6,
     "metadata": {},
     "output_type": "execute_result"
    }
   ],
   "source": [
    "spam = ['a', 'b','c','d']\n",
    "spam[int(int('3' * 2) / 11)] # spam[int(33/11)] = spam[3]"
   ]
  },
  {
   "cell_type": "raw",
   "id": "a29a7e6e",
   "metadata": {},
   "source": [
    "HERE THE STRING 3 IS MULTIPLY BY 2 THERE RESULT IS '3'*'3' i.e. 33/11 the result is 3 so d is present in 3rd position thatswhy the output is d"
   ]
  },
  {
   "cell_type": "raw",
   "id": "1e2fc709",
   "metadata": {},
   "source": [
    "QUESTION - 04 :\n",
    "\n",
    "---> What is the value of spam[-1] ?"
   ]
  },
  {
   "cell_type": "raw",
   "id": "707d033d",
   "metadata": {},
   "source": [
    "ANSWER :"
   ]
  },
  {
   "cell_type": "code",
   "execution_count": 9,
   "id": "d1dd9b37",
   "metadata": {},
   "outputs": [
    {
     "data": {
      "text/plain": [
       "'d'"
      ]
     },
     "execution_count": 9,
     "metadata": {},
     "output_type": "execute_result"
    }
   ],
   "source": [
    "spam = ['a', 'b','c','d']\n",
    "spam[-1]   "
   ]
  },
  {
   "cell_type": "raw",
   "id": "1f4c328b",
   "metadata": {},
   "source": [
    "'d' is stored in spam [-1]"
   ]
  },
  {
   "cell_type": "raw",
   "id": "f8c9642c",
   "metadata": {},
   "source": [
    "QUESTION -05 :\n",
    "What is the value of spam[:2]?"
   ]
  },
  {
   "cell_type": "raw",
   "id": "0197a08a",
   "metadata": {},
   "source": [
    "ANSWER :"
   ]
  },
  {
   "cell_type": "code",
   "execution_count": 11,
   "id": "2bd0ea3f",
   "metadata": {},
   "outputs": [
    {
     "data": {
      "text/plain": [
       "['a', 'b']"
      ]
     },
     "execution_count": 11,
     "metadata": {},
     "output_type": "execute_result"
    }
   ],
   "source": [
    "spam = ['a', 'b','c','d']\n",
    "spam[ : 2]"
   ]
  },
  {
   "cell_type": "raw",
   "id": "a8678768",
   "metadata": {},
   "source": [
    "here the range starts with 0 and stops at 2 "
   ]
  },
  {
   "cell_type": "raw",
   "id": "62895e75",
   "metadata": {},
   "source": [
    "QUESTION -06 :\n",
    "bacon =  [3.14, 'cat,' 11, 'cat,' True] \n",
    "\n",
    "---> What is the value of bacon.index('cat')?"
   ]
  },
  {
   "cell_type": "raw",
   "id": "94da1fdd",
   "metadata": {},
   "source": [
    "ANSWER : "
   ]
  },
  {
   "cell_type": "code",
   "execution_count": 13,
   "id": "01039899",
   "metadata": {},
   "outputs": [
    {
     "data": {
      "text/plain": [
       "1"
      ]
     },
     "execution_count": 13,
     "metadata": {},
     "output_type": "execute_result"
    }
   ],
   "source": [
    "bacon =  [3.14, 'cat',11, 'cat',True]\n",
    "bacon.index('cat')"
   ]
  },
  {
   "cell_type": "raw",
   "id": "6b5ff8b0",
   "metadata": {},
   "source": [
    "here it takes first occurence of cat i.e. 1 "
   ]
  },
  {
   "cell_type": "raw",
   "id": "3b84cb73",
   "metadata": {},
   "source": [
    "QUESTION -07 :\n",
    "\n",
    "How does bacon.append(99) change the look of the list value in bacon?"
   ]
  },
  {
   "cell_type": "raw",
   "id": "e05a016b",
   "metadata": {},
   "source": [
    "ANSWER : "
   ]
  },
  {
   "cell_type": "code",
   "execution_count": 14,
   "id": "66b06664",
   "metadata": {},
   "outputs": [],
   "source": [
    "bacon =  [3.14, 'cat',11, 'cat',True]\n",
    "bacon.append(99)"
   ]
  },
  {
   "cell_type": "code",
   "execution_count": 15,
   "id": "d0d4f90b",
   "metadata": {},
   "outputs": [
    {
     "data": {
      "text/plain": [
       "[3.14, 'cat', 11, 'cat', True, 99]"
      ]
     },
     "execution_count": 15,
     "metadata": {},
     "output_type": "execute_result"
    }
   ],
   "source": [
    "bacon"
   ]
  },
  {
   "cell_type": "raw",
   "id": "430aac09",
   "metadata": {},
   "source": [
    "as append function adds the element at last in the list the 99 is the last element of the list "
   ]
  },
  {
   "cell_type": "raw",
   "id": "ae34a726",
   "metadata": {},
   "source": [
    "QUESTION -08 :\n",
    "    \n",
    "How does bacon.remove('cat') change the look of the list in bacon?\n"
   ]
  },
  {
   "cell_type": "raw",
   "id": "e594854d",
   "metadata": {},
   "source": [
    "ANSWER : "
   ]
  },
  {
   "cell_type": "code",
   "execution_count": 16,
   "id": "cb0bf23a",
   "metadata": {},
   "outputs": [
    {
     "name": "stdout",
     "output_type": "stream",
     "text": [
      "[3.14, 11, 'cat', True]\n"
     ]
    }
   ],
   "source": [
    "bacon =  [3.14, 'cat',11, 'cat',True]\n",
    "bacon.remove('cat')\n",
    "\n",
    "print(bacon)"
   ]
  },
  {
   "cell_type": "raw",
   "id": "0c60f152",
   "metadata": {},
   "source": [
    "the cat is removed from the list as remove is the function of the list "
   ]
  },
  {
   "cell_type": "raw",
   "id": "fb14d5d6",
   "metadata": {},
   "source": [
    "QUESTION -09 :\n",
    "What are the list concatenation and list replication operators?"
   ]
  },
  {
   "cell_type": "raw",
   "id": "d107f72e",
   "metadata": {},
   "source": [
    "ANSWER :\n"
   ]
  },
  {
   "cell_type": "code",
   "execution_count": 18,
   "id": "76c593d6",
   "metadata": {},
   "outputs": [
    {
     "name": "stdout",
     "output_type": "stream",
     "text": [
      "THE CONCATENATION OF TWO LIST IS ---->  [1, 3, 5, 6, 3, 7, 5, 3]\n"
     ]
    }
   ],
   "source": [
    "# THE LIST CONCATENATION MEANS ADDING TWO LIST \n",
    "#HERE IS THE EXAMPLE OF THE CONCATENATION OF LIST \n",
    "\n",
    "list_1 = [ 1,3,5,6]\n",
    "list_2 = [3,7,5,3]\n",
    "\n",
    "result = list_1 + list_2\n",
    "\n",
    "print(\"THE CONCATENATION OF TWO LIST IS ----> \", result)"
   ]
  },
  {
   "cell_type": "code",
   "execution_count": 20,
   "id": "bb1c12f8",
   "metadata": {},
   "outputs": [
    {
     "data": {
      "text/plain": [
       "[4, 8, 9, 5, 4, 8, 9, 5, 4, 8, 9, 5, 4, 8, 9, 5]"
      ]
     },
     "execution_count": 20,
     "metadata": {},
     "output_type": "execute_result"
    }
   ],
   "source": [
    "# THE REPLICATION OF LIST MEANS REPEATING LIST AT THE GIVEN NUMBER OF TIMES \n",
    "# HERE IS THE EXAMPLE OF THE REPLICATION OF LIST \n",
    "\n",
    "list_3 = [4,8,9,5]\n",
    "\n",
    "list_3 * 4           # ----> repeating list 4 times"
   ]
  },
  {
   "cell_type": "raw",
   "id": "e223ed75",
   "metadata": {},
   "source": [
    "QUESTION -10 :\n",
    "What is difference between the list methods append() and insert()?"
   ]
  },
  {
   "cell_type": "raw",
   "id": "2937dfc2",
   "metadata": {},
   "source": [
    "ANSWER :\n",
    "1. The append() function adds element at the end of the list \n",
    "2. The insert() function inserts the element at particular index we define while inserting the element \n",
    "\n",
    "\n",
    "---------->  EXAMPLE :"
   ]
  },
  {
   "cell_type": "code",
   "execution_count": 23,
   "id": "78944553",
   "metadata": {},
   "outputs": [
    {
     "name": "stdout",
     "output_type": "stream",
     "text": [
      "[4, 7, 4, 2, 1, 10]\n"
     ]
    }
   ],
   "source": [
    "#THE APPEND FUNCTION \n",
    "\n",
    "list = [4,7,4,2,1]\n",
    "list.append(10) \n",
    "print(list)  # here it adds the element at the end of the list "
   ]
  },
  {
   "cell_type": "code",
   "execution_count": 26,
   "id": "8fd25a75",
   "metadata": {},
   "outputs": [
    {
     "name": "stdout",
     "output_type": "stream",
     "text": [
      "[4, 7, 4, 2, 'true', 1]\n"
     ]
    }
   ],
   "source": [
    "list = [4,7,4,2,1]\n",
    "list.insert(4,'true')\n",
    "print(list)  # here the true is entered in the 4th position of our list "
   ]
  },
  {
   "cell_type": "raw",
   "id": "2d637cdd",
   "metadata": {},
   "source": [
    "QUESTION -11 :\n",
    "What are the two methods for removing items from a list?"
   ]
  },
  {
   "cell_type": "raw",
   "id": "d1adce82",
   "metadata": {},
   "source": [
    "ANSWER : \n",
    "We can remove item from a list using \n",
    "1. pop () function\n",
    "2. remove () function \n",
    "\n",
    "-------> EXAMPLE : \n",
    "    "
   ]
  },
  {
   "cell_type": "code",
   "execution_count": 40,
   "id": "98be4461",
   "metadata": {},
   "outputs": [
    {
     "name": "stdout",
     "output_type": "stream",
     "text": [
      "7\n",
      "original list -->  [2, 4, 5, 3, 2]\n"
     ]
    }
   ],
   "source": [
    "# pop() removes an element from the given position in the list and return it \n",
    "\n",
    "l1 = [2,4,7,5,3,2]\n",
    "list = l1.pop(2) # here the 2nd index position element i.e. 7 will be removed\n",
    "print(list)\n",
    "print(\"original list --> \",l1)"
   ]
  },
  {
   "cell_type": "code",
   "execution_count": 41,
   "id": "f065d917",
   "metadata": {},
   "outputs": [
    {
     "name": "stdout",
     "output_type": "stream",
     "text": [
      "None\n",
      "original list -->  [2, 5, 7, 8, 2, 3]\n"
     ]
    }
   ],
   "source": [
    "# remove() function remove the first occurence of the given item from the list \n",
    "\n",
    "l2 = [2,5,7,8,3,2,3]\n",
    "l3 = l2.remove(3)\n",
    "print(l3)\n",
    "print(\"original list --> \",l2)"
   ]
  },
  {
   "cell_type": "code",
   "execution_count": 42,
   "id": "63aea059",
   "metadata": {},
   "outputs": [],
   "source": [
    " # here the first occurence of the 3 is removed from the list ie in the 5th position of the list "
   ]
  },
  {
   "cell_type": "raw",
   "id": "bb2fe26a",
   "metadata": {},
   "source": [
    "QUESTION -12 :\n",
    "Describe how list values and string values are identical."
   ]
  },
  {
   "cell_type": "raw",
   "id": "d847c14c",
   "metadata": {},
   "source": [
    "ANSWER :\n",
    "1. Both lists and strings have indexes and slices.\n",
    "2. Both lists and strings can be concatenated and replicated.\n",
    "3. We can use for loop in both lists and strings.\n",
    "4. in and not in operator are used in both lists and strings.\n"
   ]
  },
  {
   "cell_type": "raw",
   "id": "e84f7045",
   "metadata": {},
   "source": [
    "QUESTION -13 :\n",
    "What's the difference between tuples and lists?"
   ]
  },
  {
   "cell_type": "raw",
   "id": "e52c3a98",
   "metadata": {},
   "source": [
    "ANSWER : \n",
    "     TUPLES                            LISTS \n",
    "--> Tuples are immutable.        --> Lists are mutable.\n",
    "--> Tuples are represented with  --> Lists are represented with the \n",
    "    the round bracket or paren-      square brackets [].\n",
    "    thisis ().\n",
    "--> we cannot modify the tuple.  --> we can modify the list.\n",
    "--> tuples have the operations   --> list also have the operations like \n",
    "    like concatenation, repl-        concatenation, replication, slicing.\n",
    "    ication,slicing."
   ]
  },
  {
   "cell_type": "raw",
   "id": "b634331e",
   "metadata": {},
   "source": [
    "QUESTION -14 :\n",
    "How do you type a tuple value that only contains the integer 42?"
   ]
  },
  {
   "cell_type": "raw",
   "id": "1111d7e7",
   "metadata": {},
   "source": [
    "ANSWER : "
   ]
  },
  {
   "cell_type": "code",
   "execution_count": 43,
   "id": "c9601f01",
   "metadata": {},
   "outputs": [],
   "source": [
    "tuple = (42, )"
   ]
  },
  {
   "cell_type": "code",
   "execution_count": 44,
   "id": "1cb4f948",
   "metadata": {},
   "outputs": [
    {
     "data": {
      "text/plain": [
       "(42,)"
      ]
     },
     "execution_count": 44,
     "metadata": {},
     "output_type": "execute_result"
    }
   ],
   "source": [
    "tuple"
   ]
  },
  {
   "cell_type": "raw",
   "id": "8fb3dade",
   "metadata": {},
   "source": [
    "QUESTION -15 :\n",
    "\n",
    "How do you get a list value's tuple form? How do you get a tuple value's list form?"
   ]
  },
  {
   "cell_type": "raw",
   "id": "18f64dc3",
   "metadata": {},
   "source": [
    "ANSWER :"
   ]
  },
  {
   "cell_type": "code",
   "execution_count": 3,
   "id": "ceae95fa",
   "metadata": {},
   "outputs": [
    {
     "name": "stdout",
     "output_type": "stream",
     "text": [
      "(4, 6, 5)\n"
     ]
    }
   ],
   "source": [
    "#conversion from list to tuple\n",
    "list4 = [4,6,5]\n",
    "l = tuple(list4)\n",
    "print(l)\n"
   ]
  },
  {
   "cell_type": "code",
   "execution_count": 5,
   "id": "b7bef4c8",
   "metadata": {},
   "outputs": [
    {
     "name": "stdout",
     "output_type": "stream",
     "text": [
      "[6, 7, 6, 4, 3]\n"
     ]
    }
   ],
   "source": [
    "#conversion from tuple to list \n",
    "tuple2 = (6,7,6,4,3)\n",
    "t1 = list(tuple2)\n",
    "print(t1)"
   ]
  },
  {
   "cell_type": "raw",
   "id": "18080f4c",
   "metadata": {},
   "source": [
    "QUESTION -16 :\n",
    "\n",
    "Variables that \"contain\" list values are not necessarily lists themselves. Instead, what do they contain?"
   ]
  },
  {
   "cell_type": "raw",
   "id": "1949dc7d",
   "metadata": {},
   "source": [
    "ANSWER : \n",
    "They contain references to list values"
   ]
  },
  {
   "cell_type": "raw",
   "id": "0b900548",
   "metadata": {},
   "source": [
    "QUESTION -17 :\n",
    "How do you distinguish between copy.copy() and copy.deepcopy()?\n"
   ]
  },
  {
   "cell_type": "raw",
   "id": "718775fb",
   "metadata": {},
   "source": [
    "ANSWER :\n",
    "The copy.copy() function will do a shallow copy of a list,\n",
    "The copy.deepcopy() function will do a deep copy of a list. only copy.deepcopy() will duplicate any lists inside the list"
   ]
  },
  {
   "cell_type": "code",
   "execution_count": 9,
   "id": "739ba558",
   "metadata": {},
   "outputs": [
    {
     "data": {
      "text/plain": [
       "[3, 5, 3, 2, 6]"
      ]
     },
     "execution_count": 9,
     "metadata": {},
     "output_type": "execute_result"
    }
   ],
   "source": [
    "list6 = [3,5,3,2,6]\n",
    "list = list6.copy()\n",
    "list"
   ]
  },
  {
   "cell_type": "code",
   "execution_count": null,
   "id": "26e86b7a",
   "metadata": {},
   "outputs": [],
   "source": []
  }
 ],
 "metadata": {
  "kernelspec": {
   "display_name": "Python 3 (ipykernel)",
   "language": "python",
   "name": "python3"
  },
  "language_info": {
   "codemirror_mode": {
    "name": "ipython",
    "version": 3
   },
   "file_extension": ".py",
   "mimetype": "text/x-python",
   "name": "python",
   "nbconvert_exporter": "python",
   "pygments_lexer": "ipython3",
   "version": "3.11.4"
  }
 },
 "nbformat": 4,
 "nbformat_minor": 5
}
