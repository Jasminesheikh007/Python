{
 "cells": [
  {
   "cell_type": "markdown",
   "id": "21ddc42a",
   "metadata": {},
   "source": [
    "# ASSIGNMENT - 05 "
   ]
  },
  {
   "cell_type": "raw",
   "id": "3924995b",
   "metadata": {},
   "source": [
    "QUESTION - 01 \n",
    "What does an empty dictionary's code look like?"
   ]
  },
  {
   "cell_type": "raw",
   "id": "8b456471",
   "metadata": {},
   "source": [
    "ANSWER : "
   ]
  },
  {
   "cell_type": "code",
   "execution_count": 3,
   "id": "882ddc46",
   "metadata": {},
   "outputs": [
    {
     "data": {
      "text/plain": [
       "dict"
      ]
     },
     "execution_count": 3,
     "metadata": {},
     "output_type": "execute_result"
    }
   ],
   "source": [
    "dict = {}\n",
    "type(dict)"
   ]
  },
  {
   "cell_type": "raw",
   "id": "ea7c7615",
   "metadata": {},
   "source": [
    "QUESTION - 02 \n",
    "What is the value of a dictionary value with the key 'foo' and the value 42?\n"
   ]
  },
  {
   "cell_type": "raw",
   "id": "a1e455d3",
   "metadata": {},
   "source": [
    "ANSWER : "
   ]
  },
  {
   "cell_type": "code",
   "execution_count": 5,
   "id": "0c1953eb",
   "metadata": {},
   "outputs": [
    {
     "data": {
      "text/plain": [
       "{'foo': 42}"
      ]
     },
     "execution_count": 5,
     "metadata": {},
     "output_type": "execute_result"
    }
   ],
   "source": [
    "dict = {'foo' : 42}\n",
    "dict"
   ]
  },
  {
   "cell_type": "raw",
   "id": "16f183e2",
   "metadata": {},
   "source": [
    "QUESTION - 03\n",
    "What is the most significant distinction between a dictionary and a list?"
   ]
  },
  {
   "cell_type": "raw",
   "id": "832c1c8d",
   "metadata": {},
   "source": [
    "ANSWER : \n",
    "list : list is an ordered set of elements.\n",
    "dictionary : Adictionary is a unordered set of key : value pairs. dictionary are indexed by keys.  "
   ]
  },
  {
   "cell_type": "raw",
   "id": "691025dc",
   "metadata": {},
   "source": [
    "QUESTION - 04\n",
    "What happens if you try to access spam['foo'] if spam is {'bar': 100}?"
   ]
  },
  {
   "cell_type": "raw",
   "id": "6845cebd",
   "metadata": {},
   "source": [
    "ANSWER : "
   ]
  },
  {
   "cell_type": "code",
   "execution_count": 8,
   "id": "80806a5f",
   "metadata": {},
   "outputs": [
    {
     "ename": "KeyError",
     "evalue": "'foo'",
     "output_type": "error",
     "traceback": [
      "\u001b[1;31m---------------------------------------------------------------------------\u001b[0m",
      "\u001b[1;31mKeyError\u001b[0m                                  Traceback (most recent call last)",
      "Cell \u001b[1;32mIn[8], line 2\u001b[0m\n\u001b[0;32m      1\u001b[0m spam \u001b[38;5;241m=\u001b[39m {\u001b[38;5;124m'\u001b[39m\u001b[38;5;124mbar\u001b[39m\u001b[38;5;124m'\u001b[39m : \u001b[38;5;241m100\u001b[39m}\n\u001b[1;32m----> 2\u001b[0m spam[\u001b[38;5;124m'\u001b[39m\u001b[38;5;124mfoo\u001b[39m\u001b[38;5;124m'\u001b[39m]\n",
      "\u001b[1;31mKeyError\u001b[0m: 'foo'"
     ]
    }
   ],
   "source": [
    "spam = {'bar' : 100}\n",
    "spam['foo']\n",
    "\n",
    "#it will give us key error because the foo named key is not in our dictionary "
   ]
  },
  {
   "cell_type": "raw",
   "id": "c22e1736",
   "metadata": {},
   "source": [
    "QUESTION - 05\n",
    " If a dictionary is stored in spam, what is the difference between the expressions 'cat' in spam and 'cat' in spam.keys()?\n"
   ]
  },
  {
   "cell_type": "raw",
   "id": "b35294bc",
   "metadata": {},
   "source": [
    "ANSWER :"
   ]
  },
  {
   "cell_type": "code",
   "execution_count": 9,
   "id": "025828d9",
   "metadata": {},
   "outputs": [
    {
     "data": {
      "text/plain": [
       "True"
      ]
     },
     "execution_count": 9,
     "metadata": {},
     "output_type": "execute_result"
    }
   ],
   "source": [
    "spam = {'cat' : 23}\n",
    "'cat' in spam"
   ]
  },
  {
   "cell_type": "code",
   "execution_count": 11,
   "id": "0e07433a",
   "metadata": {},
   "outputs": [
    {
     "data": {
      "text/plain": [
       "True"
      ]
     },
     "execution_count": 11,
     "metadata": {},
     "output_type": "execute_result"
    }
   ],
   "source": [
    "'cat' in spam.keys()"
   ]
  },
  {
   "cell_type": "raw",
   "id": "5a0e36c6",
   "metadata": {},
   "source": [
    "THERE IS NO DIFFERENCE IF CAT IS PRESENT IN SPAM IT RETURNS TRUE."
   ]
  },
  {
   "cell_type": "raw",
   "id": "36066f85",
   "metadata": {},
   "source": [
    "QUESTION - 06\n",
    " If a dictionary is stored in spam, what is the difference between the expressions 'cat' in spam and 'cat' in spam.values()?"
   ]
  },
  {
   "cell_type": "raw",
   "id": "d9e8951e",
   "metadata": {},
   "source": [
    "ANSWER : "
   ]
  },
  {
   "cell_type": "code",
   "execution_count": 12,
   "id": "a9dce057",
   "metadata": {},
   "outputs": [
    {
     "data": {
      "text/plain": [
       "True"
      ]
     },
     "execution_count": 12,
     "metadata": {},
     "output_type": "execute_result"
    }
   ],
   "source": [
    "spam = {'cat':123}\n",
    "'cat' in spam\n",
    "#HERE THE CAT IS PRESENT IN THE DICTIONARY SO IT RETURNS TRUE."
   ]
  },
  {
   "cell_type": "code",
   "execution_count": 14,
   "id": "5797b857",
   "metadata": {},
   "outputs": [
    {
     "data": {
      "text/plain": [
       "False"
      ]
     },
     "execution_count": 14,
     "metadata": {},
     "output_type": "execute_result"
    }
   ],
   "source": [
    "'cat' in spam.values()\n",
    "\n",
    "# HERE IT GIVES FALSE BECAUSE THE CAT NAMED VALUES IS NOT PRESENT IN THE DICTIONARY."
   ]
  },
  {
   "cell_type": "raw",
   "id": "f32f8116",
   "metadata": {},
   "source": [
    "QUESTION - 07\n",
    "What is a shortcut for the following code?\n",
    "if 'color' not in spam:\n",
    "spam['color'] = 'black'\n"
   ]
  },
  {
   "cell_type": "raw",
   "id": "b42bc8a5",
   "metadata": {},
   "source": [
    "ANSWER : "
   ]
  },
  {
   "cell_type": "code",
   "execution_count": 15,
   "id": "59ea223c",
   "metadata": {},
   "outputs": [
    {
     "data": {
      "text/plain": [
       "{'cat': 100, 'color': 'black'}"
      ]
     },
     "execution_count": 15,
     "metadata": {},
     "output_type": "execute_result"
    }
   ],
   "source": [
    "spam = {'cat':100}\n",
    "spam.setdefault('color','black')   #setdefault() Insert key with a value of default if key is not in the dictionary\n",
    "spam\n"
   ]
  },
  {
   "cell_type": "raw",
   "id": "5d84acaa",
   "metadata": {},
   "source": [
    "QUESTION - 08\n",
    "How do you \"pretty print\" dictionary values using which module and function?"
   ]
  },
  {
   "cell_type": "raw",
   "id": "ab6b4ea1",
   "metadata": {},
   "source": [
    "ANSWER : \n",
    "The pprint() function of the pprint module in Python gives its users the ability to pretty print dict Python data types in a much more human-readable and presentable manner. Here we are dealing with a pretty-printing dictionary. We use the pprint() function to pretty-print any given string or object.\n",
    "\n",
    "\n",
    "Pprint (pretty print) is a Python module used for formatting complex data structures more readably and organized, especially when printing them to the console or writing to a file."
   ]
  },
  {
   "cell_type": "code",
   "execution_count": 12,
   "id": "5733240d",
   "metadata": {},
   "outputs": [],
   "source": [
    "import pprint # first we have to import it "
   ]
  },
  {
   "cell_type": "code",
   "execution_count": 13,
   "id": "2b778eb3",
   "metadata": {},
   "outputs": [
    {
     "name": "stdout",
     "output_type": "stream",
     "text": [
      "[{'age': 21, 'hobby': 'reading', 'name': 'JASMINE'},\n",
      " {'age ': 18, 'hobby': 'singing', 'name': 'amna'},\n",
      " {'age': 22, 'hobby': 'speaking', 'name ': 'harsh'}]\n"
     ]
    }
   ],
   "source": [
    "pprint_dict = [{'name' : 'JASMINE' , 'age' : 21 , 'hobby' : 'reading'}, {'name' : 'amna' , 'age ' : 18 , 'hobby' : 'singing' }\n",
    "               , {'name ' : 'harsh' , 'age' : 22 , 'hobby' : 'speaking'}]\n",
    "\n",
    "pprint.pprint(pprint_dict)"
   ]
  },
  {
   "cell_type": "code",
   "execution_count": null,
   "id": "5a55c842",
   "metadata": {},
   "outputs": [],
   "source": []
  }
 ],
 "metadata": {
  "kernelspec": {
   "display_name": "Python 3 (ipykernel)",
   "language": "python",
   "name": "python3"
  },
  "language_info": {
   "codemirror_mode": {
    "name": "ipython",
    "version": 3
   },
   "file_extension": ".py",
   "mimetype": "text/x-python",
   "name": "python",
   "nbconvert_exporter": "python",
   "pygments_lexer": "ipython3",
   "version": "3.11.4"
  }
 },
 "nbformat": 4,
 "nbformat_minor": 5
}
