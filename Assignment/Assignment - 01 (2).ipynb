{
 "cells": [
  {
   "cell_type": "markdown",
   "id": "0c173bf9",
   "metadata": {},
   "source": [
    "#                                                ASSIGNMENT -01 "
   ]
  },
  {
   "cell_type": "markdown",
   "id": "9ef420e3",
   "metadata": {},
   "source": [
    "# Que 1 :\n",
    "In the below elements which of them are values or an expression? \n",
    "eg:- values can be integer or string and expressions will be mathematical operators."
   ]
  },
  {
   "cell_type": "markdown",
   "id": "755b0ad7",
   "metadata": {},
   "source": [
    "#### Answer :"
   ]
  },
  {
   "cell_type": "raw",
   "id": "7e9d0091",
   "metadata": {},
   "source": [
    "###### \n",
    "(*) : expression # bcoz expression means mathematical operator \n",
    "\n",
    "\n",
    "('hello ') : hello is a string\n",
    "\n",
    "(-87.8) :  -87.8 is a value\n",
    "    \n",
    "\n",
    "(-)  : expression # bcoz expression means mathematical operator\n",
    "    \n",
    "\n",
    "(/)   : expression # bcoz expression means mathematical operator\n",
    "    \n",
    "\n",
    "(+)  :  expression # bcoz expression means mathematical operator \n",
    "\n",
    "    \n",
    "(6)  : 6 is an integer means a value"
   ]
  },
  {
   "cell_type": "markdown",
   "id": "b62687c0",
   "metadata": {},
   "source": [
    "# Que 2:\n",
    "What is the difference between string and variable?"
   ]
  },
  {
   "cell_type": "markdown",
   "id": "598336fc",
   "metadata": {},
   "source": [
    "#### "
   ]
  },
  {
   "cell_type": "markdown",
   "id": "55a0ece3",
   "metadata": {},
   "source": [
    "#### Answer :"
   ]
  },
  {
   "cell_type": "raw",
   "id": "c03e1bdf",
   "metadata": {},
   "source": [
    "###### \n",
    "STRING                                        VARIABLE\n",
    "\n",
    "1.string is a information or words or        1. A variable means where we can store our value.\n",
    "sentence or character which we want to \n",
    "store in a variable.\n",
    "\n",
    "2. A string is made up of character,that     2. A variable always starts with letters to store some values,\n",
    "has character,words, sentence, paragraph        a variable cannot be numbers, special characters.\n",
    "etc.\n",
    "\n",
    "for example :-\n",
    "\n",
    "str = \"hello python\"\n",
    "\n",
    "here hello python is string which is stored in variable str"
   ]
  },
  {
   "cell_type": "markdown",
   "id": "c13e18f8",
   "metadata": {},
   "source": [
    "# Que 3 :\n",
    "Describe three different data types."
   ]
  },
  {
   "cell_type": "markdown",
   "id": "3ca04978",
   "metadata": {},
   "source": [
    "#### Answer :"
   ]
  },
  {
   "cell_type": "raw",
   "id": "e3465384",
   "metadata": {},
   "source": [
    "###### \n",
    "1. integer : integer is declared as int. integers can be number one decimal number cannot be an integer. for example : 12,34,1,etc..\n",
    "2. float : float is declared as float. float means decimal number . for ex : float = 19.4\n",
    "3. string : string is declared as str . string means a character or a sentence. for ex : 'hello' / \"hello \"\n",
    "string always contain single quotes or double qoutes."
   ]
  },
  {
   "cell_type": "markdown",
   "id": "60d2543e",
   "metadata": {},
   "source": [
    "## Que 4 : \n",
    "What is an expression made up of? What do all expressions do?"
   ]
  },
  {
   "cell_type": "markdown",
   "id": "7f2faa4f",
   "metadata": {},
   "source": [
    "#### Answer :"
   ]
  },
  {
   "cell_type": "raw",
   "id": "fe6dd996",
   "metadata": {},
   "source": [
    "\n",
    "An expression is a combination of values, variables, operators, and calls to functions. Expressions need to be evaluated.\n",
    "Expressions are representations of value. An expression is made up of combination of operators and operands to perform the task."
   ]
  },
  {
   "cell_type": "markdown",
   "id": "1ab947f7",
   "metadata": {},
   "source": [
    "# Que 5 : \n",
    "This assignment statements, like spam = 10. What is the difference between an expression and a statement?"
   ]
  },
  {
   "cell_type": "markdown",
   "id": "fda763af",
   "metadata": {},
   "source": [
    "#### Answer :"
   ]
  },
  {
   "cell_type": "raw",
   "id": "1318dc5b",
   "metadata": {},
   "source": [
    "expressions can be assigned or use to add(+), equals(=),etc two operands.while statements is just a sentence to print.\n",
    "A statement in Python is used for creating variables or for displaying values. The expression in Python produces some value or result after being interpreted by the Python interpreter. A statement in Python is not evaluated for some results. An expression in Python is evaluated for some results."
   ]
  },
  {
   "cell_type": "markdown",
   "id": "ea5660d2",
   "metadata": {},
   "source": [
    "# Que 6 : \n",
    "After running the following code, what does the variable bacon contain?\n",
    "bacon = 22\n",
    "bacon + 1\n"
   ]
  },
  {
   "cell_type": "markdown",
   "id": "65a23147",
   "metadata": {},
   "source": [
    "#### Answer :"
   ]
  },
  {
   "cell_type": "code",
   "execution_count": 1,
   "id": "35b8c873",
   "metadata": {},
   "outputs": [
    {
     "data": {
      "text/plain": [
       "23"
      ]
     },
     "execution_count": 1,
     "metadata": {},
     "output_type": "execute_result"
    }
   ],
   "source": [
    "bacon = 22\n",
    "bacon +1"
   ]
  },
  {
   "cell_type": "markdown",
   "id": "ab5d7479",
   "metadata": {},
   "source": [
    "###### here the bacon contains 23 bcoz we added bacon + 1 and the value of bacon is 22 so 22 + 1 means 23"
   ]
  },
  {
   "cell_type": "markdown",
   "id": "af90a467",
   "metadata": {},
   "source": [
    "# Que 7 :\n",
    "What should the values of the following two terms be?\n",
    "'spam' + 'spamspam'\n",
    "'spam' * 3\n"
   ]
  },
  {
   "cell_type": "markdown",
   "id": "8605334d",
   "metadata": {},
   "source": [
    "#### Answer :"
   ]
  },
  {
   "cell_type": "code",
   "execution_count": 8,
   "id": "30d917a6",
   "metadata": {},
   "outputs": [
    {
     "data": {
      "text/plain": [
       "'spamspamspam'"
      ]
     },
     "execution_count": 8,
     "metadata": {},
     "output_type": "execute_result"
    }
   ],
   "source": [
    "'spam' + 'spamspam'\n",
    "\n",
    "# here the string spam and spamspam is getting added "
   ]
  },
  {
   "cell_type": "code",
   "execution_count": 10,
   "id": "f390c467",
   "metadata": {},
   "outputs": [
    {
     "data": {
      "text/plain": [
       "'spamspamspam'"
      ]
     },
     "execution_count": 10,
     "metadata": {},
     "output_type": "execute_result"
    }
   ],
   "source": [
    "'spam' * 3\n",
    "\n",
    "# here the spam is printed 3 times bcoz we have given there *3"
   ]
  },
  {
   "cell_type": "markdown",
   "id": "769cb9b9",
   "metadata": {},
   "source": [
    "## Que 8 :\n",
    "Why is eggs a valid variable name while 100 is invalid?"
   ]
  },
  {
   "cell_type": "markdown",
   "id": "5e739bfe",
   "metadata": {},
   "source": [
    "#### Answer :"
   ]
  },
  {
   "cell_type": "raw",
   "id": "0cd20c5e",
   "metadata": {},
   "source": [
    "###### \n",
    "Because we cannot declare variable as a number. the 100 can be its value but not a variable, \n",
    "we cannot store egg in 100 but we can store 100 in egg variable because variable names begins with the letters only..."
   ]
  },
  {
   "cell_type": "markdown",
   "id": "790dd340",
   "metadata": {},
   "source": [
    "## Que 9 :\n",
    "What three functions can be used to get the integer, floating-point number, or string version of a value?"
   ]
  },
  {
   "cell_type": "markdown",
   "id": "05a0dd4f",
   "metadata": {},
   "source": [
    "#### Answer :"
   ]
  },
  {
   "cell_type": "raw",
   "id": "08cc72c1",
   "metadata": {},
   "source": [
    "###### \n",
    "1. the integer : for integer we use int() to passed the value \n",
    "2. the floating-point number : for float we use  float() to passed the value\n",
    "3. the string : for string we use str() to passed the value "
   ]
  },
  {
   "cell_type": "markdown",
   "id": "84921eb3",
   "metadata": {},
   "source": [
    "# Que 10 :\n",
    "Why does this expression cause an error? How can you fix it?\n",
    "'I have eaten ' + 99 + ' burritos.'\n"
   ]
  },
  {
   "cell_type": "markdown",
   "id": "24536978",
   "metadata": {},
   "source": [
    "#### Answer :"
   ]
  },
  {
   "cell_type": "code",
   "execution_count": 13,
   "id": "bc8a561a",
   "metadata": {},
   "outputs": [
    {
     "ename": "TypeError",
     "evalue": "can only concatenate str (not \"int\") to str",
     "output_type": "error",
     "traceback": [
      "\u001b[1;31m---------------------------------------------------------------------------\u001b[0m",
      "\u001b[1;31mTypeError\u001b[0m                                 Traceback (most recent call last)",
      "Cell \u001b[1;32mIn[13], line 1\u001b[0m\n\u001b[1;32m----> 1\u001b[0m \u001b[38;5;124m'\u001b[39m\u001b[38;5;124mI have eaten \u001b[39m\u001b[38;5;124m'\u001b[39m \u001b[38;5;241m+\u001b[39m\u001b[38;5;241m99\u001b[39m \u001b[38;5;241m+\u001b[39m \u001b[38;5;124m'\u001b[39m\u001b[38;5;124m burritos.\u001b[39m\u001b[38;5;124m'\u001b[39m\n",
      "\u001b[1;31mTypeError\u001b[0m: can only concatenate str (not \"int\") to str"
     ]
    }
   ],
   "source": [
    "'I have eaten ' +99 + ' burritos.'"
   ]
  },
  {
   "cell_type": "code",
   "execution_count": 14,
   "id": "6d737e7b",
   "metadata": {},
   "outputs": [
    {
     "data": {
      "text/plain": [
       "'I have eaten 99  burritos.'"
      ]
     },
     "execution_count": 14,
     "metadata": {},
     "output_type": "execute_result"
    }
   ],
   "source": [
    "'I have eaten ' + 99 \"+ ' burritos.'"
   ]
  },
  {
   "cell_type": "markdown",
   "id": "544961d0",
   "metadata": {},
   "source": [
    "##### there is an error because we cannot add string an integer values we have to make it string if we want to add number or integer values to our string... \n"
   ]
  },
  {
   "cell_type": "code",
   "execution_count": null,
   "id": "4197f6f0",
   "metadata": {},
   "outputs": [],
   "source": []
  }
 ],
 "metadata": {
  "kernelspec": {
   "display_name": "Python 3 (ipykernel)",
   "language": "python",
   "name": "python3"
  },
  "language_info": {
   "codemirror_mode": {
    "name": "ipython",
    "version": 3
   },
   "file_extension": ".py",
   "mimetype": "text/x-python",
   "name": "python",
   "nbconvert_exporter": "python",
   "pygments_lexer": "ipython3",
   "version": "3.11.4"
  }
 },
 "nbformat": 4,
 "nbformat_minor": 5
}
