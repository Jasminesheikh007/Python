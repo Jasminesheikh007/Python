{
 "cells": [
  {
   "cell_type": "markdown",
   "id": "edf0bef0",
   "metadata": {},
   "source": [
    "# ASSIGNMENT - 26"
   ]
  },
  {
   "cell_type": "raw",
   "id": "5f519114",
   "metadata": {},
   "source": [
    "QUESTION -01 \n",
    "Write a Python program to print \"Hello Python\"?"
   ]
  },
  {
   "cell_type": "raw",
   "id": "b6784c70",
   "metadata": {},
   "source": [
    "ANSWER :"
   ]
  },
  {
   "cell_type": "code",
   "execution_count": 1,
   "id": "adc1e9ec",
   "metadata": {},
   "outputs": [
    {
     "name": "stdout",
     "output_type": "stream",
     "text": [
      "Hello Python\n"
     ]
    }
   ],
   "source": [
    "print (\"Hello Python\")"
   ]
  },
  {
   "cell_type": "raw",
   "id": "32ac8754",
   "metadata": {},
   "source": [
    "QUESTION -02 \n",
    "Write a Python program to do arithmetical operations addition and division.?"
   ]
  },
  {
   "cell_type": "raw",
   "id": "fa9c804f",
   "metadata": {},
   "source": [
    "ANSWER :\n"
   ]
  },
  {
   "cell_type": "code",
   "execution_count": 2,
   "id": "19f3fe74",
   "metadata": {},
   "outputs": [
    {
     "name": "stdout",
     "output_type": "stream",
     "text": [
      "enter a number a : 12\n",
      "enter a number b : 12\n",
      "Addition of  12 and  12  is  24\n"
     ]
    }
   ],
   "source": [
    "# ADDITION OF TWO NUMBERS : \n",
    "a = int(input(\"enter a number a : \"))\n",
    "b = int(input(\"enter a number b : \"))\n",
    "\n",
    "c = a+b\n",
    "\n",
    "print(\"Addition of \",a,\"and \",b,\" is \", c)"
   ]
  },
  {
   "cell_type": "code",
   "execution_count": 3,
   "id": "8ad1e181",
   "metadata": {},
   "outputs": [
    {
     "name": "stdout",
     "output_type": "stream",
     "text": [
      "enter a number a : 12\n",
      "enter a number b : 2\n",
      "Division of  12 and  2  is  6.0\n"
     ]
    }
   ],
   "source": [
    "# DIVISION OF TWO NUMBERS : \n",
    "a = int(input(\"enter a number a : \"))\n",
    "b = int(input(\"enter a number b : \"))\n",
    "\n",
    "c = a/b\n",
    "\n",
    "print(\"Division of \",a,\"and \",b,\" is \", c)"
   ]
  },
  {
   "cell_type": "raw",
   "id": "3efd8eb4",
   "metadata": {},
   "source": [
    "QUESTION - 03\n",
    "Write a Python program to find the area of a triangle?"
   ]
  },
  {
   "cell_type": "raw",
   "id": "edd49379",
   "metadata": {},
   "source": [
    "ANSWER :\n",
    "\n",
    "THE FORMULA OF AREA IS 1/2 *BASE * HEIGHT "
   ]
  },
  {
   "cell_type": "code",
   "execution_count": 4,
   "id": "dd053af8",
   "metadata": {},
   "outputs": [
    {
     "name": "stdout",
     "output_type": "stream",
     "text": [
      "Enter the Base of the triangle : 12\n",
      "Enter the Height of the triangle : 4\n",
      "Area of triangle is :  24.0\n"
     ]
    }
   ],
   "source": [
    "base = int(input(\"Enter the Base of the triangle : \"))\n",
    "height = int(input(\"Enter the Height of the triangle : \"))\n",
    "\n",
    "area = 1/2 * base * height\n",
    "\n",
    "print(\"Area of triangle is : \", area)"
   ]
  },
  {
   "cell_type": "raw",
   "id": "e8e008b6",
   "metadata": {},
   "source": [
    "QUESTION - 04 \n",
    "Write a Python program to swap two variables?"
   ]
  },
  {
   "cell_type": "raw",
   "id": "e700d6e2",
   "metadata": {},
   "source": [
    "ANSWER :"
   ]
  },
  {
   "cell_type": "code",
   "execution_count": 8,
   "id": "d99e170e",
   "metadata": {},
   "outputs": [
    {
     "name": "stdout",
     "output_type": "stream",
     "text": [
      "a is :  10\n",
      "b is :  20\n",
      "The Swapping of Numbers : \n",
      "After The Swapping of Two Numbers a is  20\n",
      "After The Swapping of Two Numbers b is  10\n"
     ]
    }
   ],
   "source": [
    "a = 10\n",
    "b = 20\n",
    "\n",
    "print(\"a is : \" ,a)\n",
    "print(\"b is : \" ,b)\n",
    "print(\"The Swapping of Numbers : \")\n",
    "\n",
    "c = a\n",
    "a = b\n",
    "b = c\n",
    "\n",
    "print(\"After The Swapping of Two Numbers a is \",a)\n",
    "print(\"After The Swapping of Two Numbers b is \",b)"
   ]
  },
  {
   "cell_type": "raw",
   "id": "cd3060d4",
   "metadata": {},
   "source": [
    "QUUESTION - 05\n",
    "Write a Python program to generate a random number?"
   ]
  },
  {
   "cell_type": "raw",
   "id": "ba991464",
   "metadata": {},
   "source": [
    "ANSWER : "
   ]
  },
  {
   "cell_type": "code",
   "execution_count": 9,
   "id": "e7331aa8",
   "metadata": {},
   "outputs": [],
   "source": [
    "import random  #importing random module"
   ]
  },
  {
   "cell_type": "code",
   "execution_count": 12,
   "id": "2e986a6b",
   "metadata": {},
   "outputs": [
    {
     "name": "stdout",
     "output_type": "stream",
     "text": [
      "4\n"
     ]
    }
   ],
   "source": [
    "print(random.randint(0,10))  # random is the package and the randint is its function \n",
    "#randint creates random integer "
   ]
  },
  {
   "cell_type": "code",
   "execution_count": null,
   "id": "8bcfb0ec",
   "metadata": {},
   "outputs": [],
   "source": []
  }
 ],
 "metadata": {
  "kernelspec": {
   "display_name": "Python 3 (ipykernel)",
   "language": "python",
   "name": "python3"
  },
  "language_info": {
   "codemirror_mode": {
    "name": "ipython",
    "version": 3
   },
   "file_extension": ".py",
   "mimetype": "text/x-python",
   "name": "python",
   "nbconvert_exporter": "python",
   "pygments_lexer": "ipython3",
   "version": "3.11.4"
  }
 },
 "nbformat": 4,
 "nbformat_minor": 5
}
